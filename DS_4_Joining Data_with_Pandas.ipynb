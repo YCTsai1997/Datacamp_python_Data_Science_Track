{
 "cells": [
  {
   "cell_type": "markdown",
   "id": "e641c1be",
   "metadata": {},
   "source": [
    "## Inner Join"
   ]
  },
  {
   "cell_type": "markdown",
   "id": "3e0add87",
   "metadata": {},
   "source": [
    "## Data Source\n",
    "- Crimes - One year prior to present: https://data.cityofchicago.org/Public-Safety/Crimes-One-year-prior-to-present/x2n5-8w5q\n",
    "- Ward Offices: https://data.cityofchicago.org/Facilities-Geographic-Boundaries/Ward-Offices/htai-wnw4"
   ]
  },
  {
   "cell_type": "code",
   "execution_count": 27,
   "id": "11229186",
   "metadata": {},
   "outputs": [],
   "source": [
    "import pandas as pd\n",
    "import numpy as np\n",
    "import datetime as dt"
   ]
  },
  {
   "cell_type": "code",
   "execution_count": 14,
   "id": "5c41a17a",
   "metadata": {},
   "outputs": [],
   "source": [
    "crime = pd.read_csv(\"Crimes_-_One_year_prior_to_present.csv\")\n",
    "ward = pd.read_csv(\"Ward_Offices.csv\")"
   ]
  },
  {
   "cell_type": "code",
   "execution_count": 11,
   "id": "d00c6a52",
   "metadata": {},
   "outputs": [
    {
     "name": "stdout",
     "output_type": "stream",
     "text": [
      "      CASE#     DATE  OF OCCURRENCE                BLOCK  IUCR  \\\n",
      "0  JE145602  12/22/2020 08:59:00 PM      004XX W 58TH ST  1153   \n",
      "1  JE173033  02/01/2021 09:30:00 PM  001XX E DELAWARE PL  0890   \n",
      "2  JE242132  11/01/2020 12:01:00 AM     109XX S AVENUE N  5000   \n",
      "\n",
      "   PRIMARY DESCRIPTION                SECONDARY DESCRIPTION  \\\n",
      "0   DECEPTIVE PRACTICE  FINANCIAL IDENTITY THEFT OVER $ 300   \n",
      "1                THEFT                        FROM BUILDING   \n",
      "2        OTHER OFFENSE           OTHER CRIME AGAINST PERSON   \n",
      "\n",
      "   LOCATION DESCRIPTION ARREST DOMESTIC  BEAT  WARD FBI CD  X COORDINATE  \\\n",
      "0             RESIDENCE      N        N   711  20.0     11           NaN   \n",
      "1             RESIDENCE      N        N  1833   2.0     06           NaN   \n",
      "2             RESIDENCE      N        Y   432  10.0     26           NaN   \n",
      "\n",
      "   Y COORDINATE  LATITUDE  LONGITUDE LOCATION  \n",
      "0           NaN       NaN        NaN      NaN  \n",
      "1           NaN       NaN        NaN      NaN  \n",
      "2           NaN       NaN        NaN      NaN  \n"
     ]
    },
    {
     "data": {
      "text/plain": [
       "CASE#                      object\n",
       "DATE  OF OCCURRENCE        object\n",
       "BLOCK                      object\n",
       " IUCR                      object\n",
       " PRIMARY DESCRIPTION       object\n",
       " SECONDARY DESCRIPTION     object\n",
       " LOCATION DESCRIPTION      object\n",
       "ARREST                     object\n",
       "DOMESTIC                   object\n",
       "BEAT                        int64\n",
       "WARD                      float64\n",
       "FBI CD                     object\n",
       "X COORDINATE              float64\n",
       "Y COORDINATE              float64\n",
       "LATITUDE                  float64\n",
       "LONGITUDE                 float64\n",
       "LOCATION                   object\n",
       "dtype: object"
      ]
     },
     "execution_count": 11,
     "metadata": {},
     "output_type": "execute_result"
    }
   ],
   "source": [
    "print(crime.head(3))\n",
    "crime.shape\n",
    "crime.dtypes"
   ]
  },
  {
   "cell_type": "code",
   "execution_count": 21,
   "id": "a2651506",
   "metadata": {},
   "outputs": [],
   "source": [
    "# Subset crime table \n",
    "crime_sample = crime.iloc[0:1001,:]"
   ]
  },
  {
   "cell_type": "code",
   "execution_count": 41,
   "id": "8c046901",
   "metadata": {},
   "outputs": [
    {
     "name": "stderr",
     "output_type": "stream",
     "text": [
      "/Users/yitsai/opt/anaconda3/lib/python3.8/site-packages/pandas/core/frame.py:4441: SettingWithCopyWarning: \n",
      "A value is trying to be set on a copy of a slice from a DataFrame\n",
      "\n",
      "See the caveats in the documentation: https://pandas.pydata.org/pandas-docs/stable/user_guide/indexing.html#returning-a-view-versus-a-copy\n",
      "  return super().rename(\n"
     ]
    }
   ],
   "source": [
    "# Fix the column name\n",
    "crime_sample.rename(columns = {\n",
    "    \"DATE  OF OCCURRENCE\":\"Date_of_Occurrance\", \n",
    "    \"IUCR\":\"IUCR\",\n",
    "    \"PRIMARY DESCRIPTION\":\"Prim_Desc\", \n",
    "    \"SECONDARY DESCRIPTION\":\"Sec_Desc\",\n",
    "    \"LOCATION DESCRIPTION\":\"Location_Desc\",\n",
    "    \"FBI CD\":\"FBI_CD\", \n",
    "    \"X COORDINATE\":\"x_cord\",\n",
    "    \"Y COORDINATE\":\"y_cord\"},\n",
    "                   inplace = True) # Use this so the rename will happen in the current dataset!"
   ]
  },
  {
   "cell_type": "code",
   "execution_count": 43,
   "id": "155659b4",
   "metadata": {},
   "outputs": [
    {
     "name": "stderr",
     "output_type": "stream",
     "text": [
      "<ipython-input-43-e254651a0bb7>:1: SettingWithCopyWarning: \n",
      "A value is trying to be set on a copy of a slice from a DataFrame.\n",
      "Try using .loc[row_indexer,col_indexer] = value instead\n",
      "\n",
      "See the caveats in the documentation: https://pandas.pydata.org/pandas-docs/stable/user_guide/indexing.html#returning-a-view-versus-a-copy\n",
      "  crime_sample[\"Date_of_Occurrance\"] = pd.to_datetime(crime_sample[\"Date_of_Occurrance\"])\n"
     ]
    }
   ],
   "source": [
    "# Fix datetime datatype issue\n",
    "crime_sample[\"Date_of_Occurrance\"] = pd.to_datetime(crime_sample[\"Date_of_Occurrance\"])"
   ]
  },
  {
   "cell_type": "code",
   "execution_count": 44,
   "id": "64a94f51",
   "metadata": {},
   "outputs": [
    {
     "name": "stdout",
     "output_type": "stream",
     "text": [
      "      CASE#  Date_of_Occurrance            BLOCK  IUCR  PRIMARY DESCRIPTION  \\\n",
      "0  JE145602 2020-12-22 20:59:00  004XX W 58TH ST  1153   DECEPTIVE PRACTICE   \n",
      "\n",
      "                 SECONDARY DESCRIPTION  LOCATION DESCRIPTION ARREST DOMESTIC  \\\n",
      "0  FINANCIAL IDENTITY THEFT OVER $ 300             RESIDENCE      N        N   \n",
      "\n",
      "   BEAT  WARD FBI_CD  x_cord  y_cord  LATITUDE  LONGITUDE LOCATION  \n",
      "0   711  20.0     11     NaN     NaN       NaN        NaN      NaN  \n"
     ]
    }
   ],
   "source": [
    "print(crime_sample.head(1))"
   ]
  },
  {
   "cell_type": "code",
   "execution_count": 9,
   "id": "a5e5cc60",
   "metadata": {},
   "outputs": [
    {
     "name": "stdout",
     "output_type": "stream",
     "text": [
      "   WARD                    ALDERMAN                               ADDRESS  \\\n",
      "0    33  Rodriguez Sanchez, Rossana            3001 West Irving Park Road   \n",
      "1    17             Moore, David H.                 1344 West 79th Street   \n",
      "2    44              Tunney, Thomas  3223 North Sheffield Avenue, Suite A   \n",
      "\n",
      "      CITY STATE  ZIPCODE      WARD PHONE        WARD FAX  \\\n",
      "0  Chicago    IL  60618.0  (773) 840-7880             NaN   \n",
      "1  Chicago    IL  60636.0  (773) 783-3672  (773) 783-3878   \n",
      "2  Chicago    IL  60657.0  (773) 525-6034  (773) 525-5058   \n",
      "\n",
      "                      EMAIL                                   WEBSITE  \\\n",
      "0         Info@33rdward.org                                       NaN   \n",
      "1       Alderman@17ward.com  http://www.David.Moore@cityofchicago.org   \n",
      "2  Ward44@cityofchicago.org                      http://44thward.org/   \n",
      "\n",
      "                  LOCATION                              CITY HALL ADDRESS  \\\n",
      "0   (41.95392, -87.703301)  121 North LaSalle Street, Room 200, Office 20   \n",
      "1   (41.75044, -87.657221)  121 North LaSalle Street, Room 300, Office 37   \n",
      "2  (41.940497, -87.654108)             121 North LaSalle Street, Room 304   \n",
      "\n",
      "  CITY HALL CITY CITY HALL STATE  CITY HALL ZIPCODE        CITY HALL PHONE  \n",
      "0        Chicago              IL              60602         (312) 744-3373  \n",
      "1        Chicago              IL              60602         (312) 744-3435  \n",
      "2        Chicago              IL              60602  (312) 744-3073 / 3133  \n"
     ]
    },
    {
     "data": {
      "text/plain": [
       "(50, 16)"
      ]
     },
     "execution_count": 9,
     "metadata": {},
     "output_type": "execute_result"
    }
   ],
   "source": [
    "print(ward.head(3))\n",
    "ward.shape"
   ]
  },
  {
   "cell_type": "markdown",
   "id": "74249e2e",
   "metadata": {},
   "source": [
    "## Inner join"
   ]
  },
  {
   "cell_type": "code",
   "execution_count": 47,
   "id": "29b4c6ec",
   "metadata": {},
   "outputs": [
    {
     "name": "stdout",
     "output_type": "stream",
     "text": [
      "   WARD                    ALDERMAN                     ADDRESS     CITY  \\\n",
      "0    33  Rodriguez Sanchez, Rossana  3001 West Irving Park Road  Chicago   \n",
      "\n",
      "  STATE  ZIPCODE      WARD PHONE WARD FAX              EMAIL WEBSITE  ...  \\\n",
      "0    IL  60618.0  (773) 840-7880      NaN  Info@33rdward.org     NaN  ...   \n",
      "\n",
      "   LOCATION DESCRIPTION ARREST DOMESTIC  BEAT  FBI_CD     x_cord     y_cord  \\\n",
      "0                STREET      N        N  1724     04A  1153475.0  1926398.0   \n",
      "\n",
      "   LATITUDE  LONGITUDE                   LOCATION_cri  \n",
      "0  41.95388 -87.711204  (41.953880109, -87.711204343)  \n",
      "\n",
      "[1 rows x 32 columns]\n"
     ]
    },
    {
     "data": {
      "text/plain": [
       "(1001, 32)"
      ]
     },
     "execution_count": 47,
     "metadata": {},
     "output_type": "execute_result"
    }
   ],
   "source": [
    "ward_crime = ward.merge(crime_sample, on = \"WARD\", suffixes = ('_ward','_cri')) # For the same column name!\n",
    "print(ward_crime.head(1))\n",
    "ward_crime.shape"
   ]
  },
  {
   "cell_type": "markdown",
   "id": "6a2d51c3",
   "metadata": {},
   "source": [
    "## Left join"
   ]
  },
  {
   "cell_type": "code",
   "execution_count": 48,
   "id": "fb0ccef0",
   "metadata": {},
   "outputs": [],
   "source": [
    "# if the joining key column name is different, then on will change to left_on and right_on\n",
    "ward_crime_lf = ward.merge(crime_sample, on = \"WARD\",how =\"left\") "
   ]
  },
  {
   "cell_type": "markdown",
   "id": "0a7ecf09",
   "metadata": {},
   "source": [
    "## Right join "
   ]
  },
  {
   "cell_type": "code",
   "execution_count": null,
   "id": "f0608ce3",
   "metadata": {},
   "outputs": [],
   "source": []
  },
  {
   "cell_type": "markdown",
   "id": "d980fcfd",
   "metadata": {},
   "source": [
    "## Outer join\n",
    " - Will return all rows from both tables regardless if there is a match between the tables"
   ]
  },
  {
   "cell_type": "code",
   "execution_count": 49,
   "id": "1745a457",
   "metadata": {},
   "outputs": [],
   "source": [
    "outer_join_test1 = {\n",
    "    \"movie_id\": [12, 35, 105],\n",
    "    \"genre\":[\"Family\", \"Family\", \"Family\"]\n",
    "}\n",
    "\n",
    "outer_join_test2 = {\n",
    "    \"movie_id\": [5, 13, 35],\n",
    "    \"genre\":[\"Comedy\", \"Comedy\", \"Comedy\"]\n",
    "}"
   ]
  },
  {
   "cell_type": "code",
   "execution_count": 51,
   "id": "3fd21a53",
   "metadata": {},
   "outputs": [
    {
     "name": "stdout",
     "output_type": "stream",
     "text": [
      "   movie_id   genre\n",
      "0        12  Family\n",
      "1        35  Family\n",
      "2       105  Family\n",
      "   movie_id   genre\n",
      "0         5  Comedy\n",
      "1        13  Comedy\n",
      "2        35  Comedy\n"
     ]
    }
   ],
   "source": [
    "movie_Fam = pd.DataFrame(outer_join_test1)\n",
    "movie_Cmd = pd.DataFrame(outer_join_test2)\n",
    "print(movie_Fam)\n",
    "print(movie_Cmd)"
   ]
  },
  {
   "cell_type": "code",
   "execution_count": 52,
   "id": "c318bea9",
   "metadata": {},
   "outputs": [
    {
     "name": "stdout",
     "output_type": "stream",
     "text": [
      "   movie_id genre_fam genre_cmd\n",
      "0        12    Family       NaN\n",
      "1        35    Family    Comedy\n",
      "2       105    Family       NaN\n",
      "3         5       NaN    Comedy\n",
      "4        13       NaN    Comedy\n"
     ]
    }
   ],
   "source": [
    "family_comedy = movie_Fam.merge(movie_Cmd, on=\"movie_id\", how = \"outer\", suffixes = (\"_fam\",\"_cmd\"))\n",
    "print(family_comedy)"
   ]
  },
  {
   "cell_type": "markdown",
   "id": "85135232",
   "metadata": {},
   "source": [
    "## When to merge at table to itself\n",
    "- Hierarchical relationships\n",
    "- sequential relationship\n",
    "- graph data"
   ]
  },
  {
   "cell_type": "markdown",
   "id": "c84774f3",
   "metadata": {},
   "source": [
    "## Merging on indexes"
   ]
  },
  {
   "cell_type": "code",
   "execution_count": null,
   "id": "d70e196a",
   "metadata": {},
   "outputs": [],
   "source": [
    "# Setting an index while import data\n",
    "Netflix = pd.read_csv('NetflixOriginals.csv', index_col=[\"Title\"])"
   ]
  },
  {
   "cell_type": "markdown",
   "id": "d6f6b1f4",
   "metadata": {},
   "source": [
    "## Filtering joins (Need practice!)\n",
    "\n",
    "- Source: https://campus.datacamp.com/courses/joining-data-with-pandas/advanced-merging-and-concatenating?ex=1\n",
    "- Semi-join: \n",
    "    - Returns the intersection, similar to an inner join, but only returns columns from the left table! \n",
    "    - No duplicate rows from the left table are returned, even if there is a one-to-many relationship!\n",
    "-anti-join: \n",
    "    - Returns the left table, excluding the intersection\n",
    "    - Returns only comlumns from the left table and not the right!"
   ]
  },
  {
   "cell_type": "code",
   "execution_count": null,
   "id": "d3f00ba6",
   "metadata": {},
   "outputs": [],
   "source": []
  },
  {
   "cell_type": "markdown",
   "id": "fb05e126",
   "metadata": {},
   "source": [
    "## Concatenated DataFrame together vertically\n",
    "- different tables with same table names\n",
    "- Ypu can not add a key and set ignore_index as False at the sametime!"
   ]
  },
  {
   "cell_type": "code",
   "execution_count": null,
   "id": "35db5d45",
   "metadata": {},
   "outputs": [],
   "source": []
  },
  {
   "cell_type": "markdown",
   "id": "b72bbe90",
   "metadata": {},
   "source": [
    "## Verifying integrity"
   ]
  },
  {
   "cell_type": "code",
   "execution_count": null,
   "id": "88e61259",
   "metadata": {},
   "outputs": [],
   "source": []
  },
  {
   "cell_type": "markdown",
   "id": "c375c087",
   "metadata": {},
   "source": [
    "## Merge_ordered()"
   ]
  },
  {
   "cell_type": "code",
   "execution_count": null,
   "id": "b3edd3d5",
   "metadata": {},
   "outputs": [],
   "source": []
  }
 ],
 "metadata": {
  "kernelspec": {
   "display_name": "Python 3",
   "language": "python",
   "name": "python3"
  },
  "language_info": {
   "codemirror_mode": {
    "name": "ipython",
    "version": 3
   },
   "file_extension": ".py",
   "mimetype": "text/x-python",
   "name": "python",
   "nbconvert_exporter": "python",
   "pygments_lexer": "ipython3",
   "version": "3.8.8"
  }
 },
 "nbformat": 4,
 "nbformat_minor": 5
}
