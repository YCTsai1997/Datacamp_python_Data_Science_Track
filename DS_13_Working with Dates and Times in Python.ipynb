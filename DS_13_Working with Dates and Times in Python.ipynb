{
 "cells": [
  {
   "cell_type": "markdown",
   "id": "5bb71cbf",
   "metadata": {},
   "source": [
    "## Creating date objects"
   ]
  },
  {
   "cell_type": "code",
   "execution_count": null,
   "id": "5a34175a",
   "metadata": {},
   "outputs": [],
   "source": [
    "# Import date\n",
    "from datetime import date\n",
    "\n",
    "# Create dates \n",
    "two_hurricanes_dates = [date(2016, 10, 7), date(2017, 6, 21)]\n",
    "print(two_hurricanes_dates[0].year)\n",
    "print(two_hurricanes_dates[0].month)\n",
    "print(two_hurricanes_dates[0].day)"
   ]
  },
  {
   "cell_type": "markdown",
   "id": "e4c5270f",
   "metadata": {},
   "source": [
    "## Finding the weekday of a date "
   ]
  },
  {
   "cell_type": "code",
   "execution_count": null,
   "id": "df0908d5",
   "metadata": {},
   "outputs": [],
   "source": [
    "print(two_hurricanes_dates[0].weekday())"
   ]
  },
  {
   "cell_type": "markdown",
   "id": "1290999a",
   "metadata": {},
   "source": [
    "## Math with Dates "
   ]
  },
  {
   "cell_type": "code",
   "execution_count": 1,
   "id": "ff92edc8",
   "metadata": {},
   "outputs": [
    {
     "name": "stdout",
     "output_type": "stream",
     "text": [
      "29\n"
     ]
    }
   ],
   "source": [
    "# Import date \n",
    "from datetime import date \n",
    "\n",
    "#Create our dates \n",
    "d1 = date(2017, 11, 5)\n",
    "d2 = date(2017, 12, 4)\n",
    "l = [d1, d2]\n",
    "\n",
    "# Subtract two dates \n",
    "delta = d2 - d1\n",
    "print(delta.days)"
   ]
  },
  {
   "cell_type": "code",
   "execution_count": 2,
   "id": "6897bef8",
   "metadata": {},
   "outputs": [
    {
     "name": "stdout",
     "output_type": "stream",
     "text": [
      "2017-12-04\n"
     ]
    }
   ],
   "source": [
    "# Import timedelta\n",
    "from datetime import timedelta \n",
    "td = timedelta(days =29)\n",
    "print(d1 + td)"
   ]
  },
  {
   "cell_type": "markdown",
   "id": "eb16a2fd",
   "metadata": {},
   "source": [
    "## Putting a list of dates in order"
   ]
  },
  {
   "cell_type": "code",
   "execution_count": null,
   "id": "3d7a4046",
   "metadata": {},
   "outputs": [],
   "source": [
    "# Print the first and last scrambled dates\n",
    "print(dates_scrambled[0])\n",
    "print(dates_scrambled[-1])\n",
    "\n",
    "# Put the dates in order\n",
    "dates_ordered = sorted(dates_scrambled)\n",
    "\n",
    "# Print the first and last ordered dates\n",
    "print(dates_ordered[0])\n",
    "print(dates_ordered[-1])"
   ]
  },
  {
   "cell_type": "markdown",
   "id": "e0377bec",
   "metadata": {},
   "source": [
    "## ISO 8601 format"
   ]
  },
  {
   "cell_type": "code",
   "execution_count": 3,
   "id": "9cb4f9e5",
   "metadata": {},
   "outputs": [
    {
     "name": "stdout",
     "output_type": "stream",
     "text": [
      "2017-11-05\n",
      "['2017-11-05']\n"
     ]
    }
   ],
   "source": [
    "from datetime import date \n",
    "\n",
    "# Example date\n",
    "d = date(2017, 11, 5)\n",
    "\n",
    "#ISO format: YYYY-MM-DD\n",
    "print(d)\n",
    "\n",
    "#Express the date in ISO 8601 format and put it in a list \n",
    "print([d.isoformat()])"
   ]
  },
  {
   "cell_type": "code",
   "execution_count": 4,
   "id": "fde278fd",
   "metadata": {},
   "outputs": [
    {
     "name": "stdout",
     "output_type": "stream",
     "text": [
      "['1999-12-31', '2000-01-01']\n"
     ]
    }
   ],
   "source": [
    "# A few dates that computers once had trouble with \n",
    "some_dates = ['2000-01-01', '1999-12-31']\n",
    "\n",
    "# Print them in order \n",
    "print(sorted(some_dates))"
   ]
  },
  {
   "cell_type": "code",
   "execution_count": 7,
   "id": "a9605259",
   "metadata": {},
   "outputs": [
    {
     "name": "stdout",
     "output_type": "stream",
     "text": [
      "2017\n"
     ]
    }
   ],
   "source": [
    "# Example date \n",
    "d = date(2017, 1, 5)\n",
    "\n",
    "print(d.strftime(\"%Y\"))"
   ]
  },
  {
   "cell_type": "code",
   "execution_count": 6,
   "id": "7a658b7e",
   "metadata": {},
   "outputs": [
    {
     "name": "stdout",
     "output_type": "stream",
     "text": [
      "Year is 2017\n"
     ]
    }
   ],
   "source": [
    "# Format string with more text in it \n",
    "print(d.strftime(\"Year is %Y\"))"
   ]
  },
  {
   "cell_type": "code",
   "execution_count": 5,
   "id": "1427326c",
   "metadata": {},
   "outputs": [
    {
     "name": "stdout",
     "output_type": "stream",
     "text": [
      "2017/11/05\n"
     ]
    }
   ],
   "source": [
    "# Format: YYYY/MM/DD\n",
    "print(d.strftime(\"%Y/%m/%d\"))"
   ]
  },
  {
   "cell_type": "markdown",
   "id": "9d7f3d4a",
   "metadata": {},
   "source": [
    "## Dates and times\n",
    "- Counting events before and after noon"
   ]
  },
  {
   "cell_type": "code",
   "execution_count": 10,
   "id": "8ef8d967",
   "metadata": {},
   "outputs": [
    {
     "ename": "NameError",
     "evalue": "name 'onebike_datetimes' is not defined",
     "output_type": "error",
     "traceback": [
      "\u001b[0;31m---------------------------------------------------------------------------\u001b[0m",
      "\u001b[0;31mNameError\u001b[0m                                 Traceback (most recent call last)",
      "\u001b[0;32m<ipython-input-10-98417ba4a609>\u001b[0m in \u001b[0;36m<module>\u001b[0;34m\u001b[0m\n\u001b[1;32m      6\u001b[0m \u001b[0;34m\u001b[0m\u001b[0m\n\u001b[1;32m      7\u001b[0m \u001b[0;31m# Loop over all trips\u001b[0m\u001b[0;34m\u001b[0m\u001b[0;34m\u001b[0m\u001b[0;34m\u001b[0m\u001b[0m\n\u001b[0;32m----> 8\u001b[0;31m \u001b[0;32mfor\u001b[0m \u001b[0mtrip\u001b[0m \u001b[0;32min\u001b[0m \u001b[0monebike_datetimes\u001b[0m\u001b[0;34m:\u001b[0m\u001b[0;34m\u001b[0m\u001b[0;34m\u001b[0m\u001b[0m\n\u001b[0m\u001b[1;32m      9\u001b[0m   \u001b[0;31m# Check to see if the trip starts before noon\u001b[0m\u001b[0;34m\u001b[0m\u001b[0;34m\u001b[0m\u001b[0;34m\u001b[0m\u001b[0m\n\u001b[1;32m     10\u001b[0m   \u001b[0;32mif\u001b[0m \u001b[0mtrip\u001b[0m\u001b[0;34m[\u001b[0m\u001b[0;34m'start'\u001b[0m\u001b[0;34m]\u001b[0m\u001b[0;34m.\u001b[0m\u001b[0mhour\u001b[0m \u001b[0;34m<\u001b[0m \u001b[0;36m12\u001b[0m\u001b[0;34m:\u001b[0m\u001b[0;34m\u001b[0m\u001b[0;34m\u001b[0m\u001b[0m\n",
      "\u001b[0;31mNameError\u001b[0m: name 'onebike_datetimes' is not defined"
     ]
    }
   ],
   "source": [
    "# Import datetime\n",
    "from datetime import datetime\n",
    "\n",
    "# Create dictionary to hold results\n",
    "trip_counts = {'AM': 0, 'PM': 0}\n",
    "  \n",
    "# Loop over all trips\n",
    "for trip in onebike_datetimes:\n",
    "  # Check to see if the trip starts before noon\n",
    "  if trip['start'].hour < 12:\n",
    "    # Increment the counter for before noon\n",
    "    trip_counts['AM'] += 1\n",
    "  else:\n",
    "    # Increment the counter for after noon\n",
    "    trip_counts['PM'] += 1\n",
    "  \n",
    "print(trip_counts)"
   ]
  },
  {
   "cell_type": "markdown",
   "id": "962d49f3",
   "metadata": {},
   "source": [
    "## Printing and pasrsing datetimes"
   ]
  },
  {
   "cell_type": "code",
   "execution_count": 11,
   "id": "168f62cb",
   "metadata": {},
   "outputs": [
    {
     "name": "stdout",
     "output_type": "stream",
     "text": [
      "2017-12-30\n"
     ]
    }
   ],
   "source": [
    "# Create datetime \n",
    "dt = datetime(2017, 12, 30, 15, 19, 13)\n",
    "print(dt.strftime(\"%Y-%m-%d\"))"
   ]
  },
  {
   "cell_type": "code",
   "execution_count": 12,
   "id": "47471147",
   "metadata": {},
   "outputs": [
    {
     "name": "stdout",
     "output_type": "stream",
     "text": [
      "2017-12-30 15:19:13\n"
     ]
    }
   ],
   "source": [
    "print(dt.strftime(\"%Y-%m-%d %H:%M:%S\"))"
   ]
  },
  {
   "cell_type": "code",
   "execution_count": 14,
   "id": "3c1667c7",
   "metadata": {},
   "outputs": [
    {
     "name": "stdout",
     "output_type": "stream",
     "text": [
      "15:19:13 on 30/12/2017\n"
     ]
    }
   ],
   "source": [
    "print(dt.strftime(\"%H:%M:%S on %d/%m/%Y\"))"
   ]
  },
  {
   "cell_type": "code",
   "execution_count": 15,
   "id": "32909d0f",
   "metadata": {},
   "outputs": [
    {
     "name": "stdout",
     "output_type": "stream",
     "text": [
      "2017-12-30T15:19:13\n"
     ]
    }
   ],
   "source": [
    "#ISO 8601 format \n",
    "print(dt.isoformat())"
   ]
  },
  {
   "cell_type": "code",
   "execution_count": 18,
   "id": "e3efb28a",
   "metadata": {},
   "outputs": [
    {
     "name": "stdout",
     "output_type": "stream",
     "text": [
      "2017-12-30 15:19:13\n"
     ]
    }
   ],
   "source": [
    "from datetime import datetime \n",
    "dt= datetime.strptime(\"12/30/2017 15:19:13\", \"%m/%d/%Y %H:%M:%S\")\n",
    "print(dt)"
   ]
  },
  {
   "cell_type": "code",
   "execution_count": 19,
   "id": "50bbbeed",
   "metadata": {},
   "outputs": [
    {
     "ename": "ValueError",
     "evalue": "unconverted data remains:  15:19:13",
     "output_type": "error",
     "traceback": [
      "\u001b[0;31m---------------------------------------------------------------------------\u001b[0m",
      "\u001b[0;31mValueError\u001b[0m                                Traceback (most recent call last)",
      "\u001b[0;32m<ipython-input-19-45f1222588fb>\u001b[0m in \u001b[0;36m<module>\u001b[0;34m\u001b[0m\n\u001b[0;32m----> 1\u001b[0;31m \u001b[0mdt\u001b[0m \u001b[0;34m=\u001b[0m \u001b[0mdatetime\u001b[0m\u001b[0;34m.\u001b[0m\u001b[0mstrptime\u001b[0m\u001b[0;34m(\u001b[0m\u001b[0;34m\"2017-12-30 15:19:13\"\u001b[0m\u001b[0;34m,\u001b[0m \u001b[0;34m\"%Y-%m-%d\"\u001b[0m\u001b[0;34m)\u001b[0m\u001b[0;34m\u001b[0m\u001b[0;34m\u001b[0m\u001b[0m\n\u001b[0m\u001b[1;32m      2\u001b[0m \u001b[0mprint\u001b[0m\u001b[0;34m(\u001b[0m\u001b[0mdt\u001b[0m\u001b[0;34m)\u001b[0m\u001b[0;34m\u001b[0m\u001b[0;34m\u001b[0m\u001b[0m\n",
      "\u001b[0;32m~/opt/anaconda3/lib/python3.8/_strptime.py\u001b[0m in \u001b[0;36m_strptime_datetime\u001b[0;34m(cls, data_string, format)\u001b[0m\n\u001b[1;32m    566\u001b[0m     \"\"\"Return a class cls instance based on the input string and the\n\u001b[1;32m    567\u001b[0m     format string.\"\"\"\n\u001b[0;32m--> 568\u001b[0;31m     \u001b[0mtt\u001b[0m\u001b[0;34m,\u001b[0m \u001b[0mfraction\u001b[0m\u001b[0;34m,\u001b[0m \u001b[0mgmtoff_fraction\u001b[0m \u001b[0;34m=\u001b[0m \u001b[0m_strptime\u001b[0m\u001b[0;34m(\u001b[0m\u001b[0mdata_string\u001b[0m\u001b[0;34m,\u001b[0m \u001b[0mformat\u001b[0m\u001b[0;34m)\u001b[0m\u001b[0;34m\u001b[0m\u001b[0;34m\u001b[0m\u001b[0m\n\u001b[0m\u001b[1;32m    569\u001b[0m     \u001b[0mtzname\u001b[0m\u001b[0;34m,\u001b[0m \u001b[0mgmtoff\u001b[0m \u001b[0;34m=\u001b[0m \u001b[0mtt\u001b[0m\u001b[0;34m[\u001b[0m\u001b[0;34m-\u001b[0m\u001b[0;36m2\u001b[0m\u001b[0;34m:\u001b[0m\u001b[0;34m]\u001b[0m\u001b[0;34m\u001b[0m\u001b[0;34m\u001b[0m\u001b[0m\n\u001b[1;32m    570\u001b[0m     \u001b[0margs\u001b[0m \u001b[0;34m=\u001b[0m \u001b[0mtt\u001b[0m\u001b[0;34m[\u001b[0m\u001b[0;34m:\u001b[0m\u001b[0;36m6\u001b[0m\u001b[0;34m]\u001b[0m \u001b[0;34m+\u001b[0m \u001b[0;34m(\u001b[0m\u001b[0mfraction\u001b[0m\u001b[0;34m,\u001b[0m\u001b[0;34m)\u001b[0m\u001b[0;34m\u001b[0m\u001b[0;34m\u001b[0m\u001b[0m\n",
      "\u001b[0;32m~/opt/anaconda3/lib/python3.8/_strptime.py\u001b[0m in \u001b[0;36m_strptime\u001b[0;34m(data_string, format)\u001b[0m\n\u001b[1;32m    350\u001b[0m                          (data_string, format))\n\u001b[1;32m    351\u001b[0m     \u001b[0;32mif\u001b[0m \u001b[0mlen\u001b[0m\u001b[0;34m(\u001b[0m\u001b[0mdata_string\u001b[0m\u001b[0;34m)\u001b[0m \u001b[0;34m!=\u001b[0m \u001b[0mfound\u001b[0m\u001b[0;34m.\u001b[0m\u001b[0mend\u001b[0m\u001b[0;34m(\u001b[0m\u001b[0;34m)\u001b[0m\u001b[0;34m:\u001b[0m\u001b[0;34m\u001b[0m\u001b[0;34m\u001b[0m\u001b[0m\n\u001b[0;32m--> 352\u001b[0;31m         raise ValueError(\"unconverted data remains: %s\" %\n\u001b[0m\u001b[1;32m    353\u001b[0m                           data_string[found.end():])\n\u001b[1;32m    354\u001b[0m \u001b[0;34m\u001b[0m\u001b[0m\n",
      "\u001b[0;31mValueError\u001b[0m: unconverted data remains:  15:19:13"
     ]
    }
   ],
   "source": [
    "dt = datetime.strptime(\"2017-12-30 15:19:13\", \"%Y-%m-%d\")\n",
    "print(dt)"
   ]
  },
  {
   "cell_type": "markdown",
   "id": "93e08625",
   "metadata": {},
   "source": [
    "## Parsing datetimes with Pandas"
   ]
  },
  {
   "cell_type": "code",
   "execution_count": 20,
   "id": "bf7adb09",
   "metadata": {},
   "outputs": [
    {
     "name": "stdout",
     "output_type": "stream",
     "text": [
      "2017-12-30 15:19:13\n"
     ]
    }
   ],
   "source": [
    "# A timestamp\n",
    "ts = 1514665153.0\n",
    "\n",
    "# Convert to datetime and print (Unix timestamps)\n",
    "print(datetime.fromtimestamp(ts))"
   ]
  },
  {
   "cell_type": "code",
   "execution_count": null,
   "id": "5d285510",
   "metadata": {},
   "outputs": [],
   "source": [
    "# Import the datetime class\n",
    "from datetime import datetime\n",
    "\n",
    "# Starting string, in YYYY-MM-DD HH:MM:SS format\n",
    "s = '2017-02-03 00:00:01'\n",
    "\n",
    "# Write a format string to parse s\n",
    "fmt = '%Y-%m-%d %H:%M:%S'\n",
    "\n",
    "# Create a datetime object d\n",
    "d = datetime.strptime(s, fmt)\n",
    "\n",
    "# Print d\n",
    "print(d)"
   ]
  },
  {
   "cell_type": "code",
   "execution_count": null,
   "id": "f05bd138",
   "metadata": {},
   "outputs": [],
   "source": [
    "# Import datetime\n",
    "from datetime import datetime\n",
    "\n",
    "# Pull out the start of the first trip\n",
    "first_start = onebike_datetimes[0]['start']\n",
    "\n",
    "# Format to feed to strftime() (ISO 8601)\n",
    "fmt = \"%Y-%m-%dT%H:%M:%S\"\n",
    "\n",
    "# Print out date with .isoformat(), then with .strftime() to compare\n",
    "print(first_start.isoformat())\n",
    "print(first_start.strftime(fmt))"
   ]
  },
  {
   "cell_type": "code",
   "execution_count": null,
   "id": "6e8a482a",
   "metadata": {},
   "outputs": [],
   "source": [
    "# Subtract dateties to create a timedelta\n",
    "print(duration.total_seconds())"
   ]
  },
  {
   "cell_type": "markdown",
   "id": "64ec4763",
   "metadata": {},
   "source": [
    "## Creating timedeltas"
   ]
  },
  {
   "cell_type": "code",
   "execution_count": 22,
   "id": "180ba469",
   "metadata": {},
   "outputs": [],
   "source": [
    "# Import timedelta\n",
    "from datetime import timedelta \n",
    "delta1 = timedelta(seconds =1)\n",
    "delta2 = timedelta(days=1, seconds = 1)"
   ]
  },
  {
   "cell_type": "markdown",
   "id": "bac08787",
   "metadata": {},
   "source": [
    "## UTC"
   ]
  },
  {
   "cell_type": "code",
   "execution_count": 23,
   "id": "5fc382a3",
   "metadata": {},
   "outputs": [
    {
     "name": "stdout",
     "output_type": "stream",
     "text": [
      "2017-12-30 15:09:03-05:00\n"
     ]
    }
   ],
   "source": [
    "# Import relevant classes\n",
    "from datetime import datetime, timedelta, timezone \n",
    "\n",
    "# US Eastern Standard time zone \n",
    "ET = timezone(timedelta(hours = -5))\n",
    "\n",
    "# Timezone-aware datetime \n",
    "dt = datetime(2017, 12, 30, 15, 9, 3, tzinfo = ET)\n",
    "\n",
    "print(dt)"
   ]
  },
  {
   "cell_type": "code",
   "execution_count": 24,
   "id": "5ab8321a",
   "metadata": {},
   "outputs": [
    {
     "name": "stdout",
     "output_type": "stream",
     "text": [
      "2017-12-31 01:39:03+05:30\n"
     ]
    }
   ],
   "source": [
    "# India Standard time zone \n",
    "IST = timezone(timedelta(hours = 5, minutes = 30))\n",
    "\n",
    "# Convert to IST \n",
    "print(dt.astimezone(IST))"
   ]
  },
  {
   "cell_type": "markdown",
   "id": "7b38a2e8",
   "metadata": {},
   "source": [
    "## Adjusting timezone vs changing tzinfo"
   ]
  },
  {
   "cell_type": "code",
   "execution_count": 25,
   "id": "4415f925",
   "metadata": {},
   "outputs": [
    {
     "name": "stdout",
     "output_type": "stream",
     "text": [
      "2017-12-30 15:09:03+00:00\n"
     ]
    }
   ],
   "source": [
    "print(dt.replace(tzinfo = timezone.utc))"
   ]
  },
  {
   "cell_type": "code",
   "execution_count": 26,
   "id": "146dd696",
   "metadata": {},
   "outputs": [
    {
     "name": "stdout",
     "output_type": "stream",
     "text": [
      "2017-12-30 20:09:03+00:00\n"
     ]
    }
   ],
   "source": [
    "# Change original to match UTC\n",
    "print(dt.astimezone(timezone.utc))"
   ]
  },
  {
   "cell_type": "markdown",
   "id": "0804eb4b",
   "metadata": {},
   "source": [
    "## UTC offsets"
   ]
  },
  {
   "cell_type": "code",
   "execution_count": 1,
   "id": "104d1cbe",
   "metadata": {},
   "outputs": [],
   "source": [
    "# Import relevant classes \n",
    "from datetime import datetime, timedelta, timezone"
   ]
  },
  {
   "cell_type": "code",
   "execution_count": 4,
   "id": "b49fa3b8",
   "metadata": {},
   "outputs": [
    {
     "name": "stdout",
     "output_type": "stream",
     "text": [
      "2021-08-28 10:55:03-05:00\n"
     ]
    }
   ],
   "source": [
    "# US Eastern Standard time zone \n",
    "ET = timezone(timedelta(hours = -5))\n",
    "\n",
    "# Timezone-aware datetime \n",
    "dt = datetime(2021, 8, 28, 10, 55, 3, tzinfo = ET)\n",
    "print(dt)"
   ]
  },
  {
   "cell_type": "code",
   "execution_count": null,
   "id": "a7557c81",
   "metadata": {},
   "outputs": [],
   "source": [
    "# India Standard time zone \n",
    "IST = timezone(timedelta(hours = 5, minutes = 30))\n",
    "\n",
    "# Convert to IST \n",
    "print(dt.astimezone(IST))"
   ]
  },
  {
   "cell_type": "code",
   "execution_count": 5,
   "id": "fc28204a",
   "metadata": {},
   "outputs": [
    {
     "name": "stdout",
     "output_type": "stream",
     "text": [
      "2021-08-28 10:55:03+00:00\n"
     ]
    }
   ],
   "source": [
    "print(dt.replace(tzinfo = timezone.utc))"
   ]
  },
  {
   "cell_type": "code",
   "execution_count": 6,
   "id": "40b86801",
   "metadata": {},
   "outputs": [
    {
     "name": "stdout",
     "output_type": "stream",
     "text": [
      "2021-08-28 15:55:03+00:00\n"
     ]
    }
   ],
   "source": [
    "print(dt.astimezone(timezone.utc))"
   ]
  },
  {
   "cell_type": "code",
   "execution_count": 7,
   "id": "94f4f642",
   "metadata": {},
   "outputs": [
    {
     "ename": "NameError",
     "evalue": "name 'datetune' is not defined",
     "output_type": "error",
     "traceback": [
      "\u001b[0;31m---------------------------------------------------------------------------\u001b[0m",
      "\u001b[0;31mNameError\u001b[0m                                 Traceback (most recent call last)",
      "\u001b[0;32m<ipython-input-7-e76872915257>\u001b[0m in \u001b[0;36m<module>\u001b[0;34m\u001b[0m\n\u001b[1;32m      5\u001b[0m \u001b[0;31m# Eastern time\u001b[0m\u001b[0;34m\u001b[0m\u001b[0;34m\u001b[0m\u001b[0;34m\u001b[0m\u001b[0m\n\u001b[1;32m      6\u001b[0m \u001b[0met\u001b[0m \u001b[0;34m=\u001b[0m \u001b[0mtz\u001b[0m\u001b[0;34m.\u001b[0m\u001b[0mgettz\u001b[0m\u001b[0;34m(\u001b[0m\u001b[0;34m'America/New_York'\u001b[0m\u001b[0;34m)\u001b[0m\u001b[0;34m\u001b[0m\u001b[0;34m\u001b[0m\u001b[0m\n\u001b[0;32m----> 7\u001b[0;31m \u001b[0mlast\u001b[0m \u001b[0;34m=\u001b[0m \u001b[0mdatetune\u001b[0m\u001b[0;34m(\u001b[0m\u001b[0;36m2017\u001b[0m\u001b[0;34m,\u001b[0m \u001b[0;36m12\u001b[0m\u001b[0;34m,\u001b[0m \u001b[0;36m30\u001b[0m\u001b[0;34m,\u001b[0m \u001b[0;36m15\u001b[0m\u001b[0;34m,\u001b[0m \u001b[0;36m9\u001b[0m\u001b[0;34m,\u001b[0m \u001b[0;36m3\u001b[0m\u001b[0;34m,\u001b[0m \u001b[0mtzinfo\u001b[0m \u001b[0;34m=\u001b[0m \u001b[0met\u001b[0m\u001b[0;34m)\u001b[0m\u001b[0;34m\u001b[0m\u001b[0;34m\u001b[0m\u001b[0m\n\u001b[0m\u001b[1;32m      8\u001b[0m \u001b[0mprint\u001b[0m\u001b[0;34m(\u001b[0m\u001b[0mlast\u001b[0m\u001b[0;34m)\u001b[0m\u001b[0;34m\u001b[0m\u001b[0;34m\u001b[0m\u001b[0m\n",
      "\u001b[0;31mNameError\u001b[0m: name 'datetune' is not defined"
     ]
    }
   ],
   "source": [
    "# Time zone database \n",
    "from datetime import datetime \n",
    "from dateutil import tz ## tz atabase: format: 'Continent/City'\n",
    "\n",
    "# Eastern time \n",
    "et = tz.gettz('America/New_York')\n",
    "last = datetune(2017, 12, 30, 15, 9, 3, tzinfo = et)\n",
    "print(last)"
   ]
  },
  {
   "cell_type": "code",
   "execution_count": null,
   "id": "40b271f0",
   "metadata": {},
   "outputs": [],
   "source": [
    "## Start of Datlight Saving Time\n",
    "\n",
    "from datetime import timezone, timedelta\n",
    "\n",
    "EST = timezone(timedelta(hours = -5))\n",
    "EDT = timezone(timedelta(hours = -4))\n",
    "\n",
    "spring_ahead_159am = spring_ahead_159am.replace(tzinfo = EST)\n",
    "spring_ahead_159am.isoformat()"
   ]
  },
  {
   "cell_type": "code",
   "execution_count": null,
   "id": "a6305475",
   "metadata": {},
   "outputs": [],
   "source": [
    "# Loading datetimes with parse_dates\n",
    "rides = pd.read_csv('captial-onebike.csv', parse_dats = ['Start date', 'End date'])"
   ]
  },
  {
   "cell_type": "code",
   "execution_count": null,
   "id": "2ab0d909",
   "metadata": {},
   "outputs": [],
   "source": [
    "rides['Duration']\\\n",
    "    .dt.total_seconds()\\\n",
    "    .head(5)"
   ]
  },
  {
   "cell_type": "code",
   "execution_count": null,
   "id": "3855e203",
   "metadata": {},
   "outputs": [],
   "source": [
    "## Average duration by month \n",
    "rides.resample('M', on = 'Start date')['Duration seconds'].mean()"
   ]
  },
  {
   "cell_type": "code",
   "execution_count": null,
   "id": "81cbb010",
   "metadata": {},
   "outputs": [],
   "source": [
    "# Localize the Start date column to America/New_York\n",
    "rides['Start date'] = rides['Start date'].dt.tz_localize('America/New_York', \n",
    "                                \t\t\t\t\t\t ambiguous='NaT')\n",
    "\n",
    "# Print first value\n",
    "print(rides['Start date'].iloc[0])\n",
    "\n",
    "# Convert the Start date column to Europe/London\n",
    "rides['Start date'] = rides['Start date'].dt.tz_convert('Europe/London')\n",
    "\n",
    "# Print the new value\n",
    "print(rides['Start date'].iloc[0])"
   ]
  },
  {
   "cell_type": "code",
   "execution_count": null,
   "id": "3e2149ed",
   "metadata": {},
   "outputs": [],
   "source": [
    "# Handle ambiguous datetime\n",
    "rides['Start date'] = rides['Start date']\\\n",
    "    .dt.tz_localize('America/New_York', ambiguous='NaT')"
   ]
  },
  {
   "cell_type": "code",
   "execution_count": null,
   "id": "9658b0df",
   "metadata": {},
   "outputs": [],
   "source": [
    "# Shift the indexes forwards one, padding with NaT\n",
    "rides['End date'].shift(1).head(3)"
   ]
  },
  {
   "cell_type": "code",
   "execution_count": null,
   "id": "d9209467",
   "metadata": {},
   "outputs": [],
   "source": [
    "# Add a column for the weekday of the start of the ride\n",
    "rides['Ride start weekday'] = rides['Start date'].dt.weekday_name\n",
    "\n",
    "# Print the median trip time per weekday\n",
    "print(rides.groupby('Ride start weekday')['Duration'].median())"
   ]
  }
 ],
 "metadata": {
  "kernelspec": {
   "display_name": "Python 3",
   "language": "python",
   "name": "python3"
  },
  "language_info": {
   "codemirror_mode": {
    "name": "ipython",
    "version": 3
   },
   "file_extension": ".py",
   "mimetype": "text/x-python",
   "name": "python",
   "nbconvert_exporter": "python",
   "pygments_lexer": "ipython3",
   "version": "3.8.8"
  }
 },
 "nbformat": 4,
 "nbformat_minor": 5
}
