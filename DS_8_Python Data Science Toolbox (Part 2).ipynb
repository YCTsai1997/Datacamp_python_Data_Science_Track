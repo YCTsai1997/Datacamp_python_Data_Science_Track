{
 "cells": [
  {
   "cell_type": "code",
   "execution_count": 1,
   "id": "0e64bce9",
   "metadata": {},
   "outputs": [],
   "source": [
    "import numpy as np\n",
    "import pandas as pd\n",
    "import matplotlib.pyplot as plt"
   ]
  },
  {
   "cell_type": "markdown",
   "id": "5e26000d",
   "metadata": {},
   "source": [
    "## Introduction to iterators\n",
    " - iterable is an object that can return an iterator, while an iterator is an object that keeps state and produces the next value when you call next() on it. \n",
    " - We can iterate over a list using a for loop\n",
    " - iterable: list, strings, dictionaries, file connections\n",
    " - Iterators vs. Iterables\n",
    "     - Iterable:\n",
    "         - Examples: List, string, dictionaries, file connections\n",
    "         - An object with an associated iter() method\n",
    "         - Applying iter() to an iterable creates an iterator\n",
    "     - Iterator\n",
    "         - Produces next value with next()"
   ]
  },
  {
   "cell_type": "code",
   "execution_count": 1,
   "id": "8745eae5",
   "metadata": {},
   "outputs": [
    {
     "data": {
      "text/plain": [
       "'D'"
      ]
     },
     "execution_count": 1,
     "metadata": {},
     "output_type": "execute_result"
    }
   ],
   "source": [
    "word = 'Da'\n",
    "it = iter(word)\n",
    "next(it)"
   ]
  },
  {
   "cell_type": "code",
   "execution_count": 2,
   "id": "895ec5ba",
   "metadata": {},
   "outputs": [
    {
     "data": {
      "text/plain": [
       "'a'"
      ]
     },
     "execution_count": 2,
     "metadata": {},
     "output_type": "execute_result"
    }
   ],
   "source": [
    "next(it)"
   ]
  },
  {
   "cell_type": "code",
   "execution_count": 3,
   "id": "9da22db7",
   "metadata": {},
   "outputs": [
    {
     "ename": "StopIteration",
     "evalue": "",
     "output_type": "error",
     "traceback": [
      "\u001b[0;31m---------------------------------------------------------------------------\u001b[0m",
      "\u001b[0;31mStopIteration\u001b[0m                             Traceback (most recent call last)",
      "\u001b[0;32m<ipython-input-3-bc1ab118995a>\u001b[0m in \u001b[0;36m<module>\u001b[0;34m\u001b[0m\n\u001b[0;32m----> 1\u001b[0;31m \u001b[0mnext\u001b[0m\u001b[0;34m(\u001b[0m\u001b[0mit\u001b[0m\u001b[0;34m)\u001b[0m\u001b[0;34m\u001b[0m\u001b[0;34m\u001b[0m\u001b[0m\n\u001b[0m",
      "\u001b[0;31mStopIteration\u001b[0m: "
     ]
    }
   ],
   "source": [
    "next(it)"
   ]
  },
  {
   "cell_type": "markdown",
   "id": "710aee90",
   "metadata": {},
   "source": [
    "## Iterating at once with * "
   ]
  },
  {
   "cell_type": "code",
   "execution_count": 5,
   "id": "66f5c6a1",
   "metadata": {},
   "outputs": [
    {
     "name": "stdout",
     "output_type": "stream",
     "text": [
      "D a t a\n"
     ]
    }
   ],
   "source": [
    "word = 'Data'\n",
    "it = iter(word)\n",
    "print(*it)"
   ]
  },
  {
   "cell_type": "code",
   "execution_count": 7,
   "id": "a7d99c28",
   "metadata": {},
   "outputs": [
    {
     "name": "stdout",
     "output_type": "stream",
     "text": [
      "\n"
     ]
    }
   ],
   "source": [
    "# No more values to go through! You cannnot do it agian as there are no more values to iterate through!\n",
    "print(*it)"
   ]
  },
  {
   "cell_type": "markdown",
   "id": "5b79a806",
   "metadata": {},
   "source": [
    "## Iterating over dictionaries"
   ]
  },
  {
   "cell_type": "code",
   "execution_count": 8,
   "id": "b6ae4630",
   "metadata": {},
   "outputs": [
    {
     "name": "stdout",
     "output_type": "stream",
     "text": [
      "hugo bowne - anderson\n",
      "francis castro\n"
     ]
    }
   ],
   "source": [
    "pythonistas = {'hugo': 'bowne - anderson', 'francis': 'castro'}\n",
    "for key, value in pythonistas.items():\n",
    "    print(key,value)"
   ]
  },
  {
   "cell_type": "markdown",
   "id": "7fa1e774",
   "metadata": {},
   "source": [
    "## Iterating over file connections"
   ]
  },
  {
   "cell_type": "code",
   "execution_count": null,
   "id": "612d63cf",
   "metadata": {},
   "outputs": [],
   "source": [
    "file = open('file.txt')\n",
    "it =iter(file)\n",
    "print(next(it))"
   ]
  },
  {
   "cell_type": "markdown",
   "id": "8e104425",
   "metadata": {},
   "source": [
    "## Using enumerate()\n",
    "- enumerate() returns an enumerate object that produces a sequence of tuples, and each of the tuples is an index-value pair."
   ]
  },
  {
   "cell_type": "code",
   "execution_count": 9,
   "id": "4e73a2ed",
   "metadata": {},
   "outputs": [
    {
     "name": "stdout",
     "output_type": "stream",
     "text": [
      "<class 'enumerate'>\n"
     ]
    }
   ],
   "source": [
    "avengers = ['hawkeye','iron man', 'thor', 'quicksilver']\n",
    "e = enumerate(avengers)\n",
    "print(type(e))"
   ]
  },
  {
   "cell_type": "code",
   "execution_count": 12,
   "id": "b61330e9",
   "metadata": {},
   "outputs": [
    {
     "name": "stdout",
     "output_type": "stream",
     "text": [
      "[(0, 'hawkeye'), (1, 'iron man'), (2, 'thor'), (3, 'quicksilver')]\n"
     ]
    }
   ],
   "source": [
    "# We can use the fuction list to return this enumerate object into a list of tuples \n",
    "    # and print it to see what it contains!\n",
    "\n",
    "avengers = ['hawkeye','iron man', 'thor', 'quicksilver']\n",
    "e = enumerate(avengers)\n",
    "e_list = list(e)\n",
    "print(e_list)"
   ]
  },
  {
   "cell_type": "code",
   "execution_count": 13,
   "id": "e4b7b596",
   "metadata": {},
   "outputs": [
    {
     "name": "stdout",
     "output_type": "stream",
     "text": [
      "0 hawkeye\n",
      "1 iron man\n",
      "2 thor\n",
      "3 quicksilver\n"
     ]
    }
   ],
   "source": [
    "# Enumerate() and unpack \n",
    "avengers = ['hawkeye','iron man', 'thor', 'quicksilver']\n",
    "for index, value in enumerate(avengers):\n",
    "    print(index, value)"
   ]
  },
  {
   "cell_type": "code",
   "execution_count": 14,
   "id": "e105bffd",
   "metadata": {},
   "outputs": [
    {
     "name": "stdout",
     "output_type": "stream",
     "text": [
      "10 hawkeye\n",
      "11 iron man\n",
      "12 thor\n",
      "13 quicksilver\n"
     ]
    }
   ],
   "source": [
    "avengers = ['hawkeye','iron man', 'thor', 'quicksilver']\n",
    "for index, value in enumerate(avengers, start = 10):\n",
    "    print(index, value)"
   ]
  },
  {
   "cell_type": "code",
   "execution_count": 22,
   "id": "273f449e",
   "metadata": {},
   "outputs": [
    {
     "name": "stdout",
     "output_type": "stream",
     "text": [
      "[(0, 'charles xavier'), (1, 'bobby drake'), (2, 'kurt wagner'), (3, 'max eisenhardt'), (4, 'kitty pryde')]\n",
      "0 charles xavier\n",
      "1 bobby drake\n",
      "2 kurt wagner\n",
      "3 max eisenhardt\n",
      "4 kitty pryde\n"
     ]
    }
   ],
   "source": [
    "\"\"\"\n",
    "Create a list of tuples from mutants and assign the result to mutant_list. \n",
    "Make sure you generate the tuples using enumerate() and turn the result from it into a list using list().\n",
    "\"\"\"\n",
    "\n",
    "# Create a list of strings: mutants\n",
    "mutants = ['charles xavier', \n",
    "            'bobby drake', \n",
    "            'kurt wagner', \n",
    "            'max eisenhardt', \n",
    "            'kitty pryde']\n",
    "\n",
    "# Create a list of tuples: mutant_list\n",
    "mutant_list = list(enumerate(mutants))\n",
    "\n",
    "# Print the list of tuples\n",
    "print(mutant_list)\n",
    "\n",
    "\n",
    "# Unpack and print the tuple pairs\n",
    "for index1, value1 in enumerate(mutants):\n",
    "    print(index1, value1)"
   ]
  },
  {
   "cell_type": "markdown",
   "id": "14035533",
   "metadata": {},
   "source": [
    "## zip()\n",
    " - accepts an arbitrary number of iterables and returns an iterator of tuples"
   ]
  },
  {
   "cell_type": "code",
   "execution_count": 15,
   "id": "59bbb0c6",
   "metadata": {},
   "outputs": [
    {
     "name": "stdout",
     "output_type": "stream",
     "text": [
      "<class 'zip'>\n"
     ]
    }
   ],
   "source": [
    "# zipping them together creates a zip object which is an iterator of tuples\n",
    "avengers = ['hawkeye','iron man', 'thor', 'quicksilver']\n",
    "names = ['barton', 'stark','odinson','maximoff']\n",
    "z = zip(avengers, names)\n",
    "print(type(z))"
   ]
  },
  {
   "cell_type": "code",
   "execution_count": 16,
   "id": "9e5305ea",
   "metadata": {},
   "outputs": [
    {
     "name": "stdout",
     "output_type": "stream",
     "text": [
      "[('hawkeye', 'barton'), ('iron man', 'stark'), ('thor', 'odinson'), ('quicksilver', 'maximoff')]\n"
     ]
    }
   ],
   "source": [
    "# We can turn this zip object into a list and print the list \n",
    "z_list = list(z)\n",
    "print(z_list)"
   ]
  },
  {
   "cell_type": "markdown",
   "id": "e01e0110",
   "metadata": {},
   "source": [
    "## zip() and unpack"
   ]
  },
  {
   "cell_type": "code",
   "execution_count": 17,
   "id": "5b4d6158",
   "metadata": {},
   "outputs": [
    {
     "name": "stdout",
     "output_type": "stream",
     "text": [
      "hawkeye barton\n",
      "iron man stark\n",
      "thor odinson\n",
      "quicksilver maximoff\n"
     ]
    }
   ],
   "source": [
    "avengers = ['hawkeye','iron man', 'thor', 'quicksilver']\n",
    "names = ['barton', 'stark','odinson','maximoff']\n",
    "for z1, z2 in zip(avengers, names):\n",
    "    print(z1, z2)"
   ]
  },
  {
   "cell_type": "markdown",
   "id": "da76d0fc",
   "metadata": {},
   "source": [
    "## Print zip with *"
   ]
  },
  {
   "cell_type": "code",
   "execution_count": 20,
   "id": "b2605efb",
   "metadata": {},
   "outputs": [
    {
     "name": "stdout",
     "output_type": "stream",
     "text": [
      "('hawkeye', 'barton') ('iron man', 'stark') ('thor', 'odinson') ('quicksilver', 'maximoff')\n"
     ]
    }
   ],
   "source": [
    "avengers = ['hawkeye','iron man', 'thor', 'quicksilver']\n",
    "names = ['barton', 'stark','odinson','maximoff']\n",
    "z = zip(avengers, names)\n",
    "print(*z) # splat operator to print all the elements!"
   ]
  },
  {
   "cell_type": "markdown",
   "id": "ad11f3fc",
   "metadata": {},
   "source": [
    "## Using iterate to load large files into memory\n",
    " - load data in chunks (chuck_size)"
   ]
  },
  {
   "cell_type": "code",
   "execution_count": null,
   "id": "ba562d77",
   "metadata": {},
   "outputs": [],
   "source": [
    "# Iterating over data\n",
    "import pandas as pd \n",
    "result = []\n",
    "for chunk in pd.read_csv('data.csv', chunksize = 1000):\n",
    "    result.append(sum(chunk['x'])) # x is the intersted column\n",
    "total = sum(result)\n",
    "print(total)"
   ]
  },
  {
   "cell_type": "code",
   "execution_count": null,
   "id": "fe43e635",
   "metadata": {},
   "outputs": [],
   "source": [
    "# Iterating over data\n",
    "import pandas as pd \n",
    "result = 0\n",
    "for chunk in pd.read_csv('data.csv', chunksize = 1000):\n",
    "    total += sum(chunk['x'])\n",
    "print(total)"
   ]
  },
  {
   "cell_type": "code",
   "execution_count": null,
   "id": "52ee95d3",
   "metadata": {},
   "outputs": [],
   "source": [
    "# Initialize an empty dictionary: counts_dict\n",
    "counts_dict = {}\n",
    "\n",
    "# Iterate over the file chunk by chunk\n",
    "for chunk in pd.read_csv('tweets.csv', chunksize=10):\n",
    "\n",
    "    # Iterate over the column in DataFrame\n",
    "    for entry in chunk['lang']:\n",
    "        if entry in counts_dict.keys():\n",
    "            counts_dict[entry] += 1\n",
    "        else:\n",
    "            counts_dict[entry] = 1\n",
    "\n",
    "# Print the populated dictionary\n",
    "print(counts_dict)"
   ]
  },
  {
   "cell_type": "code",
   "execution_count": null,
   "id": "12761b57",
   "metadata": {},
   "outputs": [],
   "source": [
    "# Define count_entries()\n",
    "def count_entries(csv_file, c_size, colname):\n",
    "    \"\"\"Return a dictionary with counts of\n",
    "    occurrences as value for each key.\"\"\"\n",
    "    \n",
    "    # Initialize an empty dictionary: counts_dict\n",
    "    counts_dict = {}\n",
    "\n",
    "    # Iterate over the file chunk by chunk\n",
    "    for chunk in pd.read_csv(csv_file, chunksize = c_size):\n",
    "\n",
    "        # Iterate over the column in DataFrame\n",
    "        for entry in chunk[colname]:\n",
    "            if entry in counts_dict.keys():\n",
    "                counts_dict[entry] += 1\n",
    "            else:\n",
    "                counts_dict[entry] = 1\n",
    "\n",
    "    # Return counts_dict\n",
    "    return counts_dict\n",
    "\n",
    "# Call count_entries(): result_counts\n",
    "result_counts = count_entries('tweets.csv', 10, 'lang')\n",
    "\n",
    "# Print result_counts\n",
    "print(result_counts)"
   ]
  },
  {
   "cell_type": "markdown",
   "id": "92e8858a",
   "metadata": {},
   "source": [
    "## List comprehension \n",
    " - create list from other lists, DataFrame columns\n",
    " - Collapse for loops for building lists into a single line (More efficient than using a for loop)\n",
    " - Components\n",
    "     - Iterable\n",
    "     - Iterator variable (represent members of iterable)\n",
    "     - output expression"
   ]
  },
  {
   "cell_type": "code",
   "execution_count": 24,
   "id": "b9ef9e39",
   "metadata": {},
   "outputs": [
    {
     "name": "stdout",
     "output_type": "stream",
     "text": [
      "[13, 9, 22, 4, 17]\n"
     ]
    }
   ],
   "source": [
    "# Populate a list with a for loop \n",
    "nums = [12, 8, 21, 3, 16]\n",
    "new_nums = []\n",
    "for num in nums: \n",
    "    new_nums.append(num +1)\n",
    "print(new_nums)"
   ]
  },
  {
   "cell_type": "code",
   "execution_count": 25,
   "id": "f125891f",
   "metadata": {},
   "outputs": [
    {
     "name": "stdout",
     "output_type": "stream",
     "text": [
      "[13, 9, 22, 4, 17]\n"
     ]
    }
   ],
   "source": [
    "new_nums = [num + 1 for num in nums]\n",
    "print(new_nums)"
   ]
  },
  {
   "cell_type": "code",
   "execution_count": 32,
   "id": "9c1edf83",
   "metadata": {},
   "outputs": [
    {
     "ename": "TypeError",
     "evalue": "append() takes exactly one argument (2 given)",
     "output_type": "error",
     "traceback": [
      "\u001b[0;31m---------------------------------------------------------------------------\u001b[0m",
      "\u001b[0;31mTypeError\u001b[0m                                 Traceback (most recent call last)",
      "\u001b[0;32m<ipython-input-32-e2c4904f215a>\u001b[0m in \u001b[0;36m<module>\u001b[0;34m\u001b[0m\n\u001b[1;32m      3\u001b[0m \u001b[0;32mfor\u001b[0m \u001b[0mnum1\u001b[0m \u001b[0;32min\u001b[0m \u001b[0mrange\u001b[0m\u001b[0;34m(\u001b[0m\u001b[0;36m0\u001b[0m\u001b[0;34m,\u001b[0m \u001b[0;36m2\u001b[0m\u001b[0;34m)\u001b[0m\u001b[0;34m:\u001b[0m\u001b[0;34m\u001b[0m\u001b[0;34m\u001b[0m\u001b[0m\n\u001b[1;32m      4\u001b[0m     \u001b[0;32mfor\u001b[0m \u001b[0mnum2\u001b[0m \u001b[0;32min\u001b[0m \u001b[0mrange\u001b[0m\u001b[0;34m(\u001b[0m\u001b[0;36m6\u001b[0m\u001b[0;34m,\u001b[0m \u001b[0;36m8\u001b[0m\u001b[0;34m)\u001b[0m\u001b[0;34m:\u001b[0m\u001b[0;34m\u001b[0m\u001b[0;34m\u001b[0m\u001b[0m\n\u001b[0;32m----> 5\u001b[0;31m         \u001b[0mpairs_1\u001b[0m\u001b[0;34m.\u001b[0m\u001b[0mappend\u001b[0m\u001b[0;34m(\u001b[0m\u001b[0mnum1\u001b[0m\u001b[0;34m,\u001b[0m \u001b[0mnum2\u001b[0m\u001b[0;34m)\u001b[0m\u001b[0;34m\u001b[0m\u001b[0;34m\u001b[0m\u001b[0m\n\u001b[0m\u001b[1;32m      6\u001b[0m \u001b[0mprint\u001b[0m\u001b[0;34m(\u001b[0m\u001b[0mpairs_1\u001b[0m\u001b[0;34m)\u001b[0m\u001b[0;34m\u001b[0m\u001b[0;34m\u001b[0m\u001b[0m\n",
      "\u001b[0;31mTypeError\u001b[0m: append() takes exactly one argument (2 given)"
     ]
    }
   ],
   "source": [
    "# Nested loops\n",
    "pairs_1 = []\n",
    "for num1 in range(0, 2):\n",
    "    for num2 in range(6, 8):\n",
    "        pairs_1.append(num1, num2)\n",
    "print(pairs_1)"
   ]
  },
  {
   "cell_type": "code",
   "execution_count": 34,
   "id": "69ad0642",
   "metadata": {},
   "outputs": [
    {
     "name": "stdout",
     "output_type": "stream",
     "text": [
      "[(0, 6), (0, 7), (1, 6), (1, 7)]\n"
     ]
    }
   ],
   "source": [
    "pairs_2 = [(num1, num2) for num1 in range(0,2) for num2 in range(6,8)]\n",
    "print(pairs_2)"
   ]
  },
  {
   "cell_type": "code",
   "execution_count": null,
   "id": "f196de3d",
   "metadata": {},
   "outputs": [],
   "source": [
    "## Using list comprehension to create matrix below: \n",
    "\"\"\"\n",
    " 5 x 5 matrix with values 0 to 4 in each row can be written as:\n",
    "\n",
    "matrix = [[0, 1, 2, 3, 4],\n",
    "          [0, 1, 2, 3, 4],\n",
    "          [0, 1, 2, 3, 4],\n",
    "          [0, 1, 2, 3, 4],\n",
    "          [0, 1, 2, 3, 4]]\n",
    "          \n",
    "1. In the inner list comprehension - that is, the output expression of the nested list comprehension \n",
    "    - create a list of values from 0 to 4 using range(). Use col as the iterator variable.\n",
    "2. In the iterable part of your nested list comprehension, use range() to count 5 rows \n",
    "    - that is, create a list of values from 0 to 4. Use row as the iterator variable; \n",
    "        note that you won't be needing this variable to create values in the list of lists.\n",
    "\"\"\""
   ]
  },
  {
   "cell_type": "code",
   "execution_count": 35,
   "id": "34219874",
   "metadata": {},
   "outputs": [
    {
     "name": "stdout",
     "output_type": "stream",
     "text": [
      "[0, 1, 2, 3, 4]\n",
      "[0, 1, 2, 3, 4]\n",
      "[0, 1, 2, 3, 4]\n",
      "[0, 1, 2, 3, 4]\n",
      "[0, 1, 2, 3, 4]\n"
     ]
    }
   ],
   "source": [
    "# Create a 5 x 5 matrix using a list of lists: matrix\n",
    "matrix = [[col for col in range(5)] for row in range(5)]\n",
    "\n",
    "# Print the matrix\n",
    "for row in matrix:\n",
    "    print(row)"
   ]
  },
  {
   "cell_type": "markdown",
   "id": "c7aab18f",
   "metadata": {},
   "source": [
    "## Conditionals in comprehensions"
   ]
  },
  {
   "cell_type": "code",
   "execution_count": 36,
   "id": "a583847a",
   "metadata": {},
   "outputs": [
    {
     "data": {
      "text/plain": [
       "[0, 4, 16, 36, 64]"
      ]
     },
     "execution_count": 36,
     "metadata": {},
     "output_type": "execute_result"
    }
   ],
   "source": [
    "[num **2 for num in range(10) if num % 2 ==0]"
   ]
  },
  {
   "cell_type": "code",
   "execution_count": 1,
   "id": "f3ccd368",
   "metadata": {},
   "outputs": [
    {
     "data": {
      "text/plain": [
       "[0, 0, 4, 0, 16, 0, 36, 0, 64, 0]"
      ]
     },
     "execution_count": 1,
     "metadata": {},
     "output_type": "execute_result"
    }
   ],
   "source": [
    "[num ** 2 if num % 2 == 0 else 0 for num in range(10)]"
   ]
  },
  {
   "cell_type": "markdown",
   "id": "520c464c",
   "metadata": {},
   "source": [
    "## Dict comprehensions"
   ]
  },
  {
   "cell_type": "code",
   "execution_count": 2,
   "id": "256a482f",
   "metadata": {},
   "outputs": [
    {
     "name": "stdout",
     "output_type": "stream",
     "text": [
      "{0: 0, 1: -1, 2: -2, 3: -3, 4: -4, 5: -5, 6: -6, 7: -7, 8: -8}\n"
     ]
    }
   ],
   "source": [
    "pos_neg = {num: -num for num in range(9)}\n",
    "print(pos_neg)"
   ]
  },
  {
   "cell_type": "code",
   "execution_count": 3,
   "id": "9afd44fa",
   "metadata": {},
   "outputs": [
    {
     "name": "stdout",
     "output_type": "stream",
     "text": [
      "<class 'dict'>\n"
     ]
    }
   ],
   "source": [
    "print(type(pos_neg))"
   ]
  },
  {
   "cell_type": "markdown",
   "id": "b85f4ec0",
   "metadata": {},
   "source": [
    "## Generator expressions"
   ]
  },
  {
   "cell_type": "code",
   "execution_count": 4,
   "id": "ba23a710",
   "metadata": {},
   "outputs": [
    {
     "data": {
      "text/plain": [
       "[0, 2, 4, 6, 8, 10, 12, 14, 16, 18]"
      ]
     },
     "execution_count": 4,
     "metadata": {},
     "output_type": "execute_result"
    }
   ],
   "source": [
    "# List comprehension\n",
    "[2 * num for num in range(10)] "
   ]
  },
  {
   "cell_type": "code",
   "execution_count": 5,
   "id": "2b01f401",
   "metadata": {},
   "outputs": [
    {
     "data": {
      "text/plain": [
       "<generator object <genexpr> at 0x7f9742b94190>"
      ]
     },
     "execution_count": 5,
     "metadata": {},
     "output_type": "execute_result"
    }
   ],
   "source": [
    "# Generator expression\n",
    "(2 * num for num in range(10)) ## Helps in very large file: it does not yet create the entire list!"
   ]
  },
  {
   "cell_type": "code",
   "execution_count": 12,
   "id": "999512b4",
   "metadata": {},
   "outputs": [
    {
     "name": "stdout",
     "output_type": "stream",
     "text": [
      "0\n",
      "1\n",
      "2\n",
      "3\n",
      "4\n",
      "5\n",
      "6\n",
      "7\n",
      "8\n",
      "9\n",
      "10\n"
     ]
    }
   ],
   "source": [
    "# Create generator object: result\n",
    "result = (num for num in range(0,11)) # Equals range(11)\n",
    "\n",
    "# Print the first 5 values\n",
    "print(next(result))\n",
    "print(next(result))\n",
    "print(next(result))\n",
    "print(next(result))\n",
    "print(next(result))\n",
    "\n",
    "# Print the rest of the values\n",
    "for value in result: ## You do not have to specified then you can get the value!\n",
    "    print(value)"
   ]
  },
  {
   "cell_type": "markdown",
   "id": "4fe8a50a",
   "metadata": {},
   "source": [
    "## Generator functions\n",
    "- produces generator objects when called\n",
    "- Defined like a regular function - def\n",
    "- Yields a sequence of values instead of returning a single value\n",
    "- Generates a value with yield keyword"
   ]
  },
  {
   "cell_type": "code",
   "execution_count": 7,
   "id": "e3930c7f",
   "metadata": {},
   "outputs": [
    {
     "name": "stdout",
     "output_type": "stream",
     "text": [
      "<generator object num_sequence at 0x7f9742bd6040>\n"
     ]
    }
   ],
   "source": [
    "# Build a generator function \n",
    "## The while loop is true until i equals n and then the generator ceases to yield values\n",
    "\n",
    "def num_sequence(n):\n",
    "    \"\"\" Generate values from 0 to n.\"\"\"\n",
    "    i = 0\n",
    "    while i < n:\n",
    "        yield i \n",
    "        i += 1\n",
    "\n",
    "print(num_sequence(5))  "
   ]
  },
  {
   "cell_type": "code",
   "execution_count": 8,
   "id": "ce1d1289",
   "metadata": {},
   "outputs": [
    {
     "name": "stdout",
     "output_type": "stream",
     "text": [
      "<generator object num_sequence at 0x7f9742bd6200>\n"
     ]
    }
   ],
   "source": [
    "result = num_sequence(5)\n",
    "print(result)"
   ]
  },
  {
   "cell_type": "code",
   "execution_count": 9,
   "id": "0b35004b",
   "metadata": {},
   "outputs": [
    {
     "name": "stdout",
     "output_type": "stream",
     "text": [
      "0\n",
      "1\n",
      "2\n",
      "3\n",
      "4\n"
     ]
    }
   ],
   "source": [
    "for item in result:\n",
    "    print(item)"
   ]
  },
  {
   "cell_type": "code",
   "execution_count": 11,
   "id": "d75c8662",
   "metadata": {},
   "outputs": [],
   "source": [
    "for item in result:\n",
    "    print(*item)"
   ]
  },
  {
   "cell_type": "code",
   "execution_count": 13,
   "id": "42b95ffe",
   "metadata": {},
   "outputs": [
    {
     "name": "stdout",
     "output_type": "stream",
     "text": [
      "6\n",
      "5\n",
      "5\n",
      "6\n",
      "7\n"
     ]
    }
   ],
   "source": [
    "# Create a list of strings\n",
    "lannister = ['cersei', 'jaime', 'tywin', 'tyrion', 'joffrey']\n",
    "\n",
    "# Define generator function get_lengths\n",
    "def get_lengths(input_list):\n",
    "    \"\"\"Generator function that yields the\n",
    "    length of the strings in input_list.\"\"\"\n",
    "\n",
    "    # Yield the length of a string\n",
    "    for person in input_list:\n",
    "        yield len(person)\n",
    "\n",
    "# Print the values generated by get_lengths()\n",
    "for value in get_lengths(lannister):\n",
    "    print(value)"
   ]
  },
  {
   "cell_type": "markdown",
   "id": "57479c64",
   "metadata": {},
   "source": [
    "## Writing a generator to load data in chunks\n",
    "- This concept of lazy evaluation is useful when you have to deal with very large datasets because it lets you generate values in an efficient manner by yielding only chunks of data at a time instead of the whole thing at once."
   ]
  },
  {
   "cell_type": "code",
   "execution_count": null,
   "id": "c56df3da",
   "metadata": {},
   "outputs": [],
   "source": [
    "\"\"\"\n",
    "In this exercise, you will define a generator function read_large_file() \n",
    "    that produces a generator object which yields a single line from a file each time next() is called on it. \n",
    "The csv file 'world_dev_ind.csv' is in your current directory for your use.\n",
    "\n",
    "Note that when you open a connection to a file, the resulting file object is already a generator! \n",
    "So out in the wild, you won't have to explicitly create generator objects in cases such as this. \n",
    "However, for pedagogical reasons, we are having you practice how to do this here with the read_large_file() function. \n",
    "\"\"\"\n",
    "\n",
    "# Define read_large_file()\n",
    "def read_large_file(file_object):\n",
    "    \"\"\"A generator function to read a large file lazily.\"\"\"\n",
    "\n",
    "    # Loop indefinitely until the end of the file\n",
    "    while True:\n",
    "\n",
    "        # Read a line from the file: data\n",
    "        data = file_object.readline()\n",
    "\n",
    "        # Break if this is the end of the file\n",
    "        if not data:\n",
    "            break\n",
    "\n",
    "        # Yield the line of data\n",
    "        yield data\n",
    "\n",
    "# Open a connection to the file\n",
    "with open('world_dev_ind.csv') as file:\n",
    "\n",
    "    # Create a generator object for the file: gen_file\n",
    "    gen_file = read_large_file(file)\n",
    "\n",
    "    # Print the first three lines of the file\n",
    "    print(next(gen_file))\n",
    "    print(next(gen_file))\n",
    "    print(next(gen_file))"
   ]
  },
  {
   "cell_type": "code",
   "execution_count": null,
   "id": "4af26af7",
   "metadata": {},
   "outputs": [],
   "source": [
    "\"\"\"\n",
    "Now let's use your generator function to process the World Bank dataset like you did previously. \n",
    "You will process the file line by line, \n",
    "    to create a dictionary of the counts of how many times each country appears in a column in the dataset. \n",
    "For this exercise, however, you won't process just 1000 rows of data, you'll process the entire dataset!\n",
    "\"\"\"\n",
    "\n",
    "# Initialize an empty dictionary: counts_dict\n",
    "counts_dict = {}\n",
    "\n",
    "# Open a connection to the file\n",
    "with open('world_dev_ind.csv', 'r') as file:\n",
    "\n",
    "    # Iterate over the generator from read_large_file()\n",
    "    for line in read_large_file(file):\n",
    "\n",
    "        row = line.split(',')\n",
    "        first_col = row[0]\n",
    "\n",
    "        if first_col in counts_dict.keys():\n",
    "            counts_dict[first_col] += 1\n",
    "        else:\n",
    "            counts_dict[first_col] = 1\n",
    "\n",
    "# Print            \n",
    "print(counts_dict)\n"
   ]
  },
  {
   "cell_type": "code",
   "execution_count": null,
   "id": "6a65b5d2",
   "metadata": {},
   "outputs": [],
   "source": [
    "# Code from previous exercise\n",
    "urb_pop_reader = pd.read_csv('ind_pop_data.csv', chunksize=1000)\n",
    "df_urb_pop = next(urb_pop_reader)\n",
    "df_pop_ceb = df_urb_pop[df_urb_pop['CountryCode'] == 'CEB']\n",
    "pops = zip(df_pop_ceb['Total Population'], \n",
    "           df_pop_ceb['Urban population (% of total)'])\n",
    "pops_list = list(pops)\n",
    "\n",
    "# Use list comprehension to create new DataFrame column 'Total Urban Population'\n",
    "df_pop_ceb['Total Urban Population'] = [\n",
    "    int(pops_list[index]  *  (pops_list[index+1] * 0.01)) for index in pops_list\n",
    "]\n",
    "\n",
    "# Plot urban population data\n",
    "df_pop_ceb.plot(kind='scatter', x='Year', y='Total Urban Population')\n",
    "plt.show()"
   ]
  }
 ],
 "metadata": {
  "kernelspec": {
   "display_name": "Python 3",
   "language": "python",
   "name": "python3"
  },
  "language_info": {
   "codemirror_mode": {
    "name": "ipython",
    "version": 3
   },
   "file_extension": ".py",
   "mimetype": "text/x-python",
   "name": "python",
   "nbconvert_exporter": "python",
   "pygments_lexer": "ipython3",
   "version": "3.8.8"
  }
 },
 "nbformat": 4,
 "nbformat_minor": 5
}
