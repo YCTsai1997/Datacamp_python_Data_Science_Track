{
 "cells": [
  {
   "cell_type": "code",
   "execution_count": 4,
   "id": "95408c16",
   "metadata": {},
   "outputs": [],
   "source": [
    "import datetime as dt\n",
    "import numpy as np\n",
    "import pandas as pd\n",
    "import matplotlib.pyplot as plt\n",
    "import seaborn as sns"
   ]
  },
  {
   "cell_type": "code",
   "execution_count": null,
   "id": "09b79887",
   "metadata": {},
   "outputs": [],
   "source": [
    "# Remove $ from Revenue column\n",
    "sales['Revenue'] = sales['Revenue'].str.strip('$')\n",
    "sales['Revenue'] = sales['Revenue'].astype('int')"
   ]
  },
  {
   "cell_type": "code",
   "execution_count": null,
   "id": "eb89ae61",
   "metadata": {},
   "outputs": [],
   "source": [
    "# Verify that Revenue is now an integer\n",
    "assert sales['Revenue'].dtype == 'int'"
   ]
  },
  {
   "cell_type": "markdown",
   "id": "02745ebf",
   "metadata": {},
   "source": [
    "## The assert statement"
   ]
  },
  {
   "cell_type": "code",
   "execution_count": 1,
   "id": "478e1016",
   "metadata": {},
   "outputs": [],
   "source": [
    "# THis will pass: returns nothing!\n",
    "assert 1+1 ==2"
   ]
  },
  {
   "cell_type": "code",
   "execution_count": 2,
   "id": "d905121e",
   "metadata": {},
   "outputs": [
    {
     "ename": "AssertionError",
     "evalue": "",
     "output_type": "error",
     "traceback": [
      "\u001b[0;31m---------------------------------------------------------------------------\u001b[0m",
      "\u001b[0;31mAssertionError\u001b[0m                            Traceback (most recent call last)",
      "\u001b[0;32m<ipython-input-2-fff596cfc902>\u001b[0m in \u001b[0;36m<module>\u001b[0;34m\u001b[0m\n\u001b[0;32m----> 1\u001b[0;31m \u001b[0;32massert\u001b[0m \u001b[0;36m1\u001b[0m\u001b[0;34m+\u001b[0m\u001b[0;36m1\u001b[0m \u001b[0;34m==\u001b[0m \u001b[0;36m3\u001b[0m\u001b[0;34m\u001b[0m\u001b[0;34m\u001b[0m\u001b[0m\n\u001b[0m",
      "\u001b[0;31mAssertionError\u001b[0m: "
     ]
    }
   ],
   "source": [
    "assert 1+1 == 3 "
   ]
  },
  {
   "cell_type": "markdown",
   "id": "77860ad0",
   "metadata": {},
   "source": [
    "## Convert to categorical"
   ]
  },
  {
   "cell_type": "code",
   "execution_count": null,
   "id": "4fe36b18",
   "metadata": {},
   "outputs": [],
   "source": [
    "# 0= never_married, 1 = Married, 2 = Seperated, 3 = Divorced\n",
    "df[\"marriage_status\"] = df['marriage_status'].astype('category')\n",
    "df.describe()"
   ]
  },
  {
   "cell_type": "markdown",
   "id": "24d2c502",
   "metadata": {},
   "source": [
    "## Dropping values"
   ]
  },
  {
   "cell_type": "code",
   "execution_count": null,
   "id": "03fab906",
   "metadata": {},
   "outputs": [],
   "source": [
    "# Drop values using filter \n",
    "movies =  movies[movies['avg_rating'] <= 5]\n",
    "\n",
    "# Drop values using .drop\n",
    "movies.drop(movies[movies['avg_rating'] >5].index, inpalce = True)\n",
    "\n",
    "## assert results \n",
    "assert movies['avg_rating'].max() <= 5\n",
    "\n",
    "# Convert avg_raings >5 to 5\n",
    "movies.loc[movies['avg_rating'] > 5, 'avg_rating'] = 5"
   ]
  },
  {
   "cell_type": "markdown",
   "id": "d7aefdcb",
   "metadata": {},
   "source": [
    "## Date range example"
   ]
  },
  {
   "cell_type": "code",
   "execution_count": null,
   "id": "372ff2b2",
   "metadata": {},
   "outputs": [],
   "source": [
    "# output data types\n",
    "user_singups.dtypes\n",
    "\n",
    "# Convert to DateTime\n",
    "user_signups['subscription_date'] = pd.to_datetime(user_signups['subscription_date'])\n",
    "\n",
    "# Assert that conversion happened\n",
    "assert user_signups['subscription_date'].dtype == 'datetime64[ns]'"
   ]
  },
  {
   "cell_type": "code",
   "execution_count": null,
   "id": "c6da0709",
   "metadata": {},
   "outputs": [],
   "source": [
    "today_date = dt.date.today()\n",
    "\n",
    "# Drop values using filtering \n",
    "user_signups = user_signups[user_signups['subscription_date']< today_date]\n",
    "\n",
    "#Drop values using .drop()\n",
    "user_signups.drop(user_signups[user_signups['subscription_date'] > today_date].index, inplace = True)\n",
    "\n",
    "#----------- Hardcode dates with upper limit\n",
    "\n",
    "# Drop values using filtering \n",
    "user_signups.loc[user_signups['subscription_date'] > today_date, 'subscription_date'] = today_date\n",
    "\n",
    "# assert is true\n",
    "assert user_signups.subscription_date.max().date() <= today_date"
   ]
  },
  {
   "cell_type": "code",
   "execution_count": null,
   "id": "95e99480",
   "metadata": {},
   "outputs": [],
   "source": [
    "\"\"\"\n",
    "you will make sure the tire_sizes column has the correct range by first converting it to an integer, \n",
    "    then setting and testing the new upper limit of 27″ for tire sizes.\n",
    "\"\"\"\n",
    "\n",
    "# Convert tire_sizes to integer\n",
    "ride_sharing['tire_sizes'] = ride_sharing['tire_sizes'].astype('int')\n",
    "\n",
    "# Set all values above 27 to 27\n",
    "ride_sharing.loc[ride_sharing['tire_sizes'] > 27, 'tire_sizes'] = 27  #'tire_sizes' needs the single brackets\n",
    "\n",
    "# Reconvert tire_sizes back to categorical\n",
    "ride_sharing['tire_sizes'] = ride_sharing['tire_sizes'].astype('category')\n",
    "\n",
    "# Print tire size description\n",
    "print(ride_sharing['tire_sizes'].describe())"
   ]
  },
  {
   "cell_type": "markdown",
   "id": "ad7d72be",
   "metadata": {},
   "source": [
    "## Finding duplicate values\n",
    "- The .duplicated() method\n",
    "    - subset: List of column names to check for duplication\n",
    "    - keep\" Whether to keep first ('first'), last( 'last') or all (False) duplicate values\n",
    "- .drop_duplicates() methods\n",
    "    - subset: List of column names to check for duplication\n",
    "    - keep\" Whether to keep first ('first'), last( 'last') or all (False) duplicate values\n",
    "    - inplace: Drop duplicated row directly inside DataFrame without creating new object (True)"
   ]
  },
  {
   "cell_type": "code",
   "execution_count": null,
   "id": "37740b84",
   "metadata": {},
   "outputs": [],
   "source": [
    "# Get duplicates across all columns \n",
    "duplicates = height_weight.duplicated()  # Will show True or False for each row \n",
    "\n",
    "# Get duplicate rows\n",
    "duplicates = height_weight.duplicated()\n",
    "height_weight[duplicates]"
   ]
  },
  {
   "cell_type": "code",
   "execution_count": null,
   "id": "2404b4d9",
   "metadata": {},
   "outputs": [],
   "source": [
    "# Column names to check for duplication \n",
    "column_names = ['first_name', 'last_name', 'address']\n",
    "duplicates = height_weight.duplicated(subset = column_names, keep = False)\n",
    "\n",
    "# Output duplicate values\n",
    "height_weight[duplicates].sort_values( by = 'first_name')"
   ]
  },
  {
   "cell_type": "code",
   "execution_count": null,
   "id": "646502d5",
   "metadata": {},
   "outputs": [],
   "source": [
    "# Drop duplicates\n",
    "height_weight.drop_duplicates(inplace = True)"
   ]
  },
  {
   "cell_type": "code",
   "execution_count": null,
   "id": "a63519f9",
   "metadata": {},
   "outputs": [],
   "source": [
    "# How to treat duplicates values - The .groupby() and .agg() methods\n",
    "    # Group by column names and produce statistical summaries \n",
    "column_names = ['first_name', 'last_name', 'address']\n",
    "summaries = {'height':'max', 'weight':'mean'}\n",
    "height_weight = height_weight.groupby(by =column_names).agg(summaries).reset_index()"
   ]
  },
  {
   "cell_type": "code",
   "execution_count": null,
   "id": "5da54df8",
   "metadata": {},
   "outputs": [],
   "source": [
    "# Drop complete duplicates from ride_sharing\n",
    "ride_dup = ride_sharing.drop_duplicates()\n",
    "\n",
    "# Create statistics dictionary for aggregation function\n",
    "statistics = {'user_birth_year': 'min', 'duration': 'mean'}\n",
    "\n",
    "# Group by ride_id and compute new statistics\n",
    "ride_unique = ride_dup.groupby('ride_id').agg(statistics).reset_index() # Why do we need to reset_index?\n",
    "\n",
    "# Find duplicated values again\n",
    "duplicates = ride_unique.duplicated(subset = 'ride_id', keep = False)\n",
    "duplicated_rides = ride_unique[duplicates == True]\n",
    "\n",
    "# Assert duplicates are processed\n",
    "assert duplicated_rides.shape[0] == 0"
   ]
  },
  {
   "cell_type": "markdown",
   "id": "ea1dca31",
   "metadata": {},
   "source": [
    "## Finding inconsistent categories"
   ]
  },
  {
   "cell_type": "code",
   "execution_count": null,
   "id": "0553a622",
   "metadata": {},
   "outputs": [],
   "source": [
    "inconsistent_categories = set(study_data['blood_type']).difference(categories['blood_type'])\n",
    "print(inconsistent_categories)"
   ]
  },
  {
   "cell_type": "code",
   "execution_count": null,
   "id": "942b1b9f",
   "metadata": {},
   "outputs": [],
   "source": [
    "# Get and print rows with inconsistent categories \n",
    "inconsistent_rows = study_data['blood_type'].isin(inconsistent_categories)\n",
    "study_data[inconsistent_rows]\n",
    "\n",
    "# Drop inconsistent categories and get consistent data only \n",
    "consistent_data = study_data[~inconsistent_rows]"
   ]
  },
  {
   "cell_type": "markdown",
   "id": "c0aeaf3f",
   "metadata": {},
   "source": [
    "## categorical variables\n",
    " - value inconsistency\n",
    "     - 'married', 'Married', 'UNMARRIED','not married'\n",
    "     - _Trailing whit space: _'married ', ' married ',...\n",
    " - collapsing too many categories to few "
   ]
  },
  {
   "cell_type": "code",
   "execution_count": null,
   "id": "0343283f",
   "metadata": {},
   "outputs": [],
   "source": [
    "# Get marriage status column\n",
    "marriage_status = demograhics['marriage_status']\n",
    "marriage_status.value_counts() # Works on series only!\n",
    "\n",
    "## GEt value counts on DataFrame\n",
    "marriage_status.groupby('marriage_status').count()\n",
    "\n",
    "## Capitalized \n",
    "marriage_status['marriage_status'] = marriage_status['marriage_status'].str.upper()\n",
    "marriage_status['marriage_status'].value_counts() \n",
    "\n",
    "# Strip all spaces\n",
    "demograhics = demograhics['marriage_status'].str.strip()  \n",
    "demograhics['marriage_status'].value_counts()"
   ]
  },
  {
   "cell_type": "markdown",
   "id": "8bccc0a9",
   "metadata": {},
   "source": [
    "### Collapsing data into categories "
   ]
  },
  {
   "cell_type": "code",
   "execution_count": null,
   "id": "abc7d9dc",
   "metadata": {},
   "outputs": [],
   "source": [
    "# Using qcut()\n",
    "import pandas as pd\n",
    "group_names = ['0-200K', '200K-500K', '500K+']\n",
    "demographics['imcome_group'] = pd.qcut(demographics['household_income'] , q = 3, labels = group_names)\n",
    "\n",
    "#Pinrt income_group column\n",
    "demographics[['imcome_group', 'household_income']]"
   ]
  },
  {
   "cell_type": "code",
   "execution_count": null,
   "id": "cf27594e",
   "metadata": {},
   "outputs": [],
   "source": [
    "# Using cut() - create category ranges and names\n",
    "ranges = [0, 200000, 500000, np.inf]\n",
    "group_names = ['0-200K', '200K-500K', '500K+']\n",
    "\n",
    "# Create income group column \n",
    "demographics['imcome_group'] = pd.cut(demographics['household_income'] , bins = ranges, labels = group_names)\n",
    "\n",
    "#Pinrt income_group column\n",
    "demographics[['imcome_group', 'household_income']]"
   ]
  },
  {
   "cell_type": "code",
   "execution_count": null,
   "id": "d2ce0399",
   "metadata": {},
   "outputs": [],
   "source": [
    "\"\"\"\n",
    "Collapsing data into categories:\n",
    "    - operating_system: 'Microsoft', 'MacOS', 'IOS', 'Android', 'Linux'\n",
    "    - operating_system: 'DesktopOS', 'MobileOS'\n",
    "\"\"\"\n",
    "\n",
    "# Creating mapping dictionary and replace \n",
    "mapping = {'Microsoft':'DesktopOs', 'MacOS':'DesktopOS', 'Linux':'DesktopOS', 'IOS':'MobileOS', 'Android':'MobileOS'}\n",
    "devices['operating_system'] = devices['operating_system'].replace(mapping)\n",
    "devices['operating_system'].unique()"
   ]
  },
  {
   "cell_type": "code",
   "execution_count": null,
   "id": "593f94ae",
   "metadata": {},
   "outputs": [],
   "source": [
    "\"\"\"\n",
    "wait_type: 'short' for 0-60 min, 'medium' for 60-180 and long for 180+\n",
    "day_week: 'weekday' if day is in the weekday, 'weekend' if day is in the weekend.\n",
    "\"\"\"\n",
    "\n",
    "# Create ranges for categories\n",
    "label_ranges = [0, 60, 180, np.inf]\n",
    "label_names = ['short', 'medium', 'long']\n",
    "\n",
    "# Create wait_type column\n",
    "airlines['wait_type'] = pd.cut(airlines['wait_min'], bins = label_ranges, \n",
    "                                labels = label_names)\n",
    "\n",
    "# Create mappings and replace\n",
    "mappings = {'Monday':'weekday', 'Tuesday':'weekday', 'Wednesday': 'weekday', \n",
    "            'Thursday': 'weekday', 'Friday': 'weekday', \n",
    "            'Saturday': 'weekend', 'Sunday': 'weekend'}\n",
    "\n",
    "airlines['day_week'] = airlines['day'].replace(mappings)"
   ]
  },
  {
   "cell_type": "markdown",
   "id": "5a68cf16",
   "metadata": {},
   "source": [
    "## Cleaning text data"
   ]
  },
  {
   "cell_type": "code",
   "execution_count": null,
   "id": "4fe72eef",
   "metadata": {},
   "outputs": [],
   "source": [
    "# replace \"+\" with \"00\"\n",
    "phones[\"Phone number\"] = phones[\"Phone number\"].str.replace(\"+\", \"00\") \n",
    "\n",
    "## Assert all numbers do not have \"+\" or \"-\"\n",
    "assert phone['phone number'].str.contains(\"+|-\").any() == False # assert returns nothing if the condition passes"
   ]
  },
  {
   "cell_type": "markdown",
   "id": "aa39cfa3",
   "metadata": {},
   "source": [
    "## Regular expression in action"
   ]
  },
  {
   "cell_type": "code",
   "execution_count": null,
   "id": "606d847d",
   "metadata": {},
   "outputs": [],
   "source": [
    "# Replace letters with nothing\n",
    "phones['Phone number'] = phones['Phone number'].str.replace(r'\\D+','') # Replace that is not digit to nothing!"
   ]
  },
  {
   "cell_type": "markdown",
   "id": "d4205fc2",
   "metadata": {},
   "source": [
    "## Treating date data"
   ]
  },
  {
   "cell_type": "code",
   "execution_count": null,
   "id": "15ddfd21",
   "metadata": {},
   "outputs": [],
   "source": [
    "# Converts to datetime - but won't work \n",
    "birthdays['Birthday'] = pd.to_datetime(birthdays['Birthday'])\n",
    "\n",
    "# Will work!\n",
    "birthdays['Birthday'] = pd.to_datetime(birthdays['Birthday'],\n",
    "                                       #Attempt to infer format of each date\n",
    "                                       infer_datetime_format = True, \n",
    "                                       # Return NA for rows where conversion failed\n",
    "                                       errors = 'coerce'\n",
    "                                      )"
   ]
  },
  {
   "cell_type": "code",
   "execution_count": null,
   "id": "2a754449",
   "metadata": {},
   "outputs": [],
   "source": [
    "# Print the header of account_opend\n",
    "print(banking['account_opened'].head())\n",
    "\n",
    "# Convert account_opened to datetime\n",
    "banking['account_opened'] = pd.to_datetime(banking['account_opened'],\n",
    "                                           # Infer datetime format\n",
    "                                           infer_datetime_format = True,\n",
    "                                           # Return missing value for error\n",
    "                                           errors = 'coerce') \n",
    "\n",
    "# Get year of account opened\n",
    "banking['acct_year'] = banking['account_opened'].dt.strftime('%Y') #Can not type year....\n",
    "\n",
    "# Print acct_year\n",
    "print(banking['acct_year'])"
   ]
  },
  {
   "cell_type": "markdown",
   "id": "00ca37a6",
   "metadata": {},
   "source": [
    "## Uniform currency"
   ]
  },
  {
   "cell_type": "code",
   "execution_count": null,
   "id": "99e63cca",
   "metadata": {},
   "outputs": [],
   "source": [
    "# Find values of acct_cur that are equal to 'euro'\n",
    "acct_eu = banking['acct_cur'] == 'euro'\n",
    "\n",
    "# Convert acct_amount where it is in euro to dollars\n",
    "banking.loc[acct_eu, 'acct_amount'] = banking.loc[acct_eu, 'acct_amount'] * 1.1 \n",
    "\n",
    "# Unify acct_cur column by changing 'euro' values to 'dollar'\n",
    "banking.loc[acct_eu, 'acct_cur'] = 'dollar'\n",
    "\n",
    "# Assert that only dollar currency remains\n",
    "assert banking['acct_cur'].unique() == 'dollar'"
   ]
  },
  {
   "cell_type": "markdown",
   "id": "e3f1de2c",
   "metadata": {},
   "source": [
    "## Cross field validation\n",
    "- The use of multiple fields in a dataset to sanity check data integrity"
   ]
  },
  {
   "cell_type": "code",
   "execution_count": null,
   "id": "815eca9c",
   "metadata": {},
   "outputs": [],
   "source": [
    "# Sum across columns! and axis = 1 indicate row wise summing!\n",
    "sum_calsses = flights[['economy_class', 'business_class', 'first_class']].sum(axis=1) "
   ]
  },
  {
   "cell_type": "markdown",
   "id": "b97a578e",
   "metadata": {},
   "source": [
    "## Missing values"
   ]
  },
  {
   "cell_type": "code",
   "execution_count": null,
   "id": "dd756847",
   "metadata": {},
   "outputs": [],
   "source": [
    "## Return missing values\n",
    "airquality.isna()\n",
    "\n",
    "## GEt the summary of missingness \n",
    "airquality.isna.sum()\n",
    "\n",
    "## Dropping missing values\n",
    "airquality_dropped = airquality.dropna(subset = ['CO2'])\n",
    "\n",
    "## Replacing with stats measurements\n",
    "co2_mean = airquality['CO2'].mean()\n",
    "airquality_imputed = airquality.fillna({'co2':co2_mean})"
   ]
  },
  {
   "cell_type": "markdown",
   "id": "3e9da7ff",
   "metadata": {},
   "source": [
    "## Missingno\n",
    "- Useful package for visualizing and understanding missing data"
   ]
  },
  {
   "cell_type": "code",
   "execution_count": null,
   "id": "a87c0eda",
   "metadata": {},
   "outputs": [],
   "source": [
    "import missingno as msno \n",
    "import matplotlib.pyplot as plt\n",
    "msno.matrix(airquality)\n",
    "plt.show()"
   ]
  },
  {
   "cell_type": "code",
   "execution_count": null,
   "id": "87186fd3",
   "metadata": {},
   "outputs": [],
   "source": [
    "sorted_airquality = airquality.sort_values(by = 'Temperature')\n",
    "msno.matrix(sorted_airquality)\n",
    "plt.show()"
   ]
  },
  {
   "cell_type": "markdown",
   "id": "bc4eb775",
   "metadata": {},
   "source": [
    "## Comparing strings: Minimum edit distance algorithms\n",
    "- Damerau-Levenshtein: insertion, substitution, deletion, transposition\n",
    "- Levenshtein: insertion, substitution, deletion (fuzzywuzzy)\n",
    "- Hamming: substitution only\n",
    "- Jaro distance: transposition only \n",
    "- Possible packages: nltk, fuzzywuzzy, textdistance..."
   ]
  },
  {
   "cell_type": "markdown",
   "id": "da7f7af7",
   "metadata": {},
   "source": [
    "### Simple string comparison "
   ]
  },
  {
   "cell_type": "code",
   "execution_count": 1,
   "id": "5401579a",
   "metadata": {},
   "outputs": [
    {
     "ename": "ModuleNotFoundError",
     "evalue": "No module named 'fuzzywuzzy'",
     "output_type": "error",
     "traceback": [
      "\u001b[0;31m---------------------------------------------------------------------------\u001b[0m",
      "\u001b[0;31mModuleNotFoundError\u001b[0m                       Traceback (most recent call last)",
      "\u001b[0;32m<ipython-input-1-845c64ebc020>\u001b[0m in \u001b[0;36m<module>\u001b[0;34m\u001b[0m\n\u001b[1;32m      1\u001b[0m \u001b[0;31m# Lets us compare between two strings\u001b[0m\u001b[0;34m\u001b[0m\u001b[0;34m\u001b[0m\u001b[0;34m\u001b[0m\u001b[0m\n\u001b[0;32m----> 2\u001b[0;31m \u001b[0;32mfrom\u001b[0m \u001b[0mfuzzywuzzy\u001b[0m \u001b[0;32mimport\u001b[0m \u001b[0mfuzz\u001b[0m\u001b[0;34m\u001b[0m\u001b[0;34m\u001b[0m\u001b[0m\n\u001b[0m\u001b[1;32m      3\u001b[0m \u001b[0;34m\u001b[0m\u001b[0m\n\u001b[1;32m      4\u001b[0m \u001b[0;31m# Compare reeding vs reading\u001b[0m\u001b[0;34m\u001b[0m\u001b[0;34m\u001b[0m\u001b[0;34m\u001b[0m\u001b[0m\n\u001b[1;32m      5\u001b[0m \u001b[0mfuzz\u001b[0m\u001b[0;34m.\u001b[0m\u001b[0mWRatio\u001b[0m\u001b[0;34m(\u001b[0m\u001b[0;34m'Reeding'\u001b[0m\u001b[0;34m,\u001b[0m \u001b[0;34m'Reading'\u001b[0m\u001b[0;34m)\u001b[0m\u001b[0;34m\u001b[0m\u001b[0;34m\u001b[0m\u001b[0m\n",
      "\u001b[0;31mModuleNotFoundError\u001b[0m: No module named 'fuzzywuzzy'"
     ]
    }
   ],
   "source": [
    "# Lets us compare between two strings\n",
    "from fuzzywuzzy import fuzz\n",
    "\n",
    "# Compare reeding vs reading \n",
    "fuzz.WRatio('Reeding', 'Reading')"
   ]
  },
  {
   "cell_type": "markdown",
   "id": "c45d569d",
   "metadata": {},
   "source": [
    "## Remapping categories"
   ]
  },
  {
   "cell_type": "code",
   "execution_count": null,
   "id": "41af4e60",
   "metadata": {},
   "outputs": [],
   "source": [
    "# Iterate through categories\n",
    "for cuisine in categories:  \n",
    "  # Create a list of matches, comparing cuisine with the cuisine_type column\n",
    "  matches = process.extract(cuisine, restaurants['cuisine_type'], limit=len(restaurants.cuisine_type))\n",
    "\n",
    "  # Iterate through the list of matches\n",
    "  for match in matches:\n",
    "     # Check whether the similarity score is greater than or equal to 80\n",
    "    if match[1] >= 80:\n",
    "      # If it is, select all rows where the cuisine_type is spelled this way, and set them to the correct cuisine\n",
    "      restaurants.loc[restaurants['cuisine_type'] == match[0]] = cuisine\n",
    "      \n",
    "# Inspect the final result\n",
    "print(restaurants['cuisine_type'].unique())"
   ]
  },
  {
   "cell_type": "markdown",
   "id": "681c75b1",
   "metadata": {},
   "source": [
    "## Generating pairs"
   ]
  },
  {
   "cell_type": "code",
   "execution_count": null,
   "id": "f170e439",
   "metadata": {},
   "outputs": [],
   "source": [
    "## Import recordlinkage\n",
    "import recordlinkage\n",
    "\n",
    "# Create indexsing object \n",
    "indexer = recordlinkage.Index()\n",
    "\n",
    "# Generate pairs blocked on state\n",
    "indexer.block('state')\n",
    "pairs = indexer.index(census_A, census_B)\n",
    "\n",
    "# Create a Compare object \n",
    "compare_cl = recordlinkage.Comapre()\n",
    "\n",
    "# Find exact matches for pairs of data_of_birth and state\n",
    "compare_cl.exact('date_of_birth', 'date_of_birth', label = 'date_of_birth')\n",
    "campare_cl.exact('state', 'state', label = 'state')\n",
    "\n",
    "# Find similar matches for pairs of surname and address_1 using string similarity \n",
    "compare_cl.string('surname', 'surname', threshold =0.85, label = 'surname')\n",
    "\n",
    "# Find matches \n",
    "potential_matches = compare_cl.compute(pairs, census_A, census_B)"
   ]
  },
  {
   "cell_type": "markdown",
   "id": "b23d08df",
   "metadata": {},
   "source": [
    "## Probable matches "
   ]
  },
  {
   "cell_type": "code",
   "execution_count": null,
   "id": "f65c5cbd",
   "metadata": {},
   "outputs": [],
   "source": [
    "matches = potential_matches[potential_matches.sum(axis = 1) >= 3]\n",
    "print(matches)"
   ]
  },
  {
   "cell_type": "markdown",
   "id": "65bf7d11",
   "metadata": {},
   "source": [
    "## Get the indices"
   ]
  },
  {
   "cell_type": "code",
   "execution_count": null,
   "id": "efa64c4a",
   "metadata": {},
   "outputs": [],
   "source": [
    "matches.index\n",
    "\n",
    "# Get indices from census_B only\n",
    "duplicate_rows = matches.index.get_level_values(1)\n",
    "print(census_B_index)"
   ]
  },
  {
   "cell_type": "code",
   "execution_count": null,
   "id": "5b3ecdd0",
   "metadata": {},
   "outputs": [],
   "source": [
    "# Finding duplicates in census_B\n",
    "census_B_duplicates = census_B[census_B.index.isin(duplicate_rows)]\n",
    "\n",
    "# Finding new rows in census_B\n",
    "census_B_new = census_B[~census_B.index.isin(duplicate_rows)]\n",
    "\n",
    "# Link the DataFrames!\n",
    "full_census = census_A.append(census_B_new)"
   ]
  }
 ],
 "metadata": {
  "kernelspec": {
   "display_name": "Python 3",
   "language": "python",
   "name": "python3"
  },
  "language_info": {
   "codemirror_mode": {
    "name": "ipython",
    "version": 3
   },
   "file_extension": ".py",
   "mimetype": "text/x-python",
   "name": "python",
   "nbconvert_exporter": "python",
   "pygments_lexer": "ipython3",
   "version": "3.8.8"
  }
 },
 "nbformat": 4,
 "nbformat_minor": 5
}
